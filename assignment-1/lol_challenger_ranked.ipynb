{
 "cells": [
  {
   "cell_type": "markdown",
   "metadata": {
    "colab_type": "text",
    "id": "Lc0J9SG6nzb4"
   },
   "source": [
    "**Membros da equipe:** Ricardo Cavalcante (377744), Tales Araujo dos Santos (374953)\n",
    "\n",
    "Source: https://www.kaggle.com/gyejr95/league-of-legends-challenger-ranked-games2020"
   ]
  },
  {
   "cell_type": "markdown",
   "metadata": {
    "colab_type": "text",
    "id": "6eA9t9gXDMyJ"
   },
   "source": [
    "## Um pouco sobre League of Legends e sobre este notebook\n",
    "\n",
    "League of Legends (LoL) é um jogo multiplayer, modo arena de batalha, desenvolvido pela empresa Riot Games, onde o objetivo final é destruir a base inimiga. O mapa contém diversos objetivos que podem vatagens aos que os fizerem, como:\n",
    "\n",
    "- **Tropas (Minions):** Tropas são unidades associadas a um dos times controladas pelo computador. Elas surgem periodicamente do próprio nexus e avançam pelas rotas em direção ao nexus inimigo. As tropas inimigas garantem ouro ao jogador que a abateu.\n",
    "\n",
    "- **Dragões, Rubrivira (Red/Vermelho), Azuporã (Blue/Azul) e Barão (Baron Nashor):** Ficam situados na Jungle e garantem buffs nos status e experiência de nível quando que o abatidos.\n",
    "\n",
    "- **Trevoguari (Lobos),  Grompe (Sapão), Acuâmina (Galinha) e Krugues (Pedras):** Ficam situados na Jungle e garantem experiência de nível quando abatidos.\n",
    "\n",
    "- **Aronguejo (Caranguejo):** Ficam situados nos rios e garantem experiência de nível e visão no mapa quando abatidos.\n",
    "\n",
    "- **Torres:** Liberam um espaço na rota até o nexus inimigo quando destruida.\n",
    "\n",
    "- **Inibitor:** Quando destruida libera minnions inimigos mais poderosos na rota a qual esse inibidor era responsável.\n",
    "\n",
    "- **Nexus:** Garante a vitória ao time que o destroiu.\n",
    "\n",
    "Além disso o jogo conta com mais de 160 personagens jogáveis, cada um com um kit de habilidades diferente e status base unicos, e as partidas contam com 10 jogadores simultâneos, sendo 5 do time azul e cinco do time vermelho, cada um com uma função pré definida e responsável por defender uma área do mapa.\n",
    "\n",
    "**Representação do minimapa com as principais localizações:**\n",
    "![alt text](https://s2.glbimg.com/7YyoN-q2hqslIYiSD5I_aWrmXlE=/0x0:1600x1337/984x0/smart/filters:strip_icc()/i.s3.glbimg.com/v1/AUTH_08fbf48bc0524877943fe86e43087e7a/internal_photos/bs/2018/j/U/wOtnlBRQOqIM2D4UZnqQ/mapa1-marca.jpg \"Logo Title Text 1\")\n",
    "\n",
    "\n",
    "O jogo também tem um sistema de rankeamento baseado em divisões e de pontos (Chamados de pontos de liga ou PDL). Os pontos de liga são distribuídos aos jogadores de forma que eles ganham PDL caso vençam e perdem PDL caso percam a partida. Os três primeiros divisões são:\n",
    "\n",
    "- Desafiante (Challenger)\n",
    "- Grão Mestre (Grand Master)\n",
    "- Mestre (Master)\n",
    "\n",
    "Os meios de se sobrepor perante o inimigo e triunfar no campo de batalha são diversos e o jogo acaba por se tornar uma mistura entre habilidade individual e estratégia!\n",
    "\n",
    "Neste notebook estaremos realizando uma análise focada nos quesitos estratégicos nos rankings mais altos do jogo para descobrir quais são os fatores mais impactantes em uma partida para garantir a vitória!"
   ]
  },
  {
   "cell_type": "code",
   "execution_count": 154,
   "metadata": {
    "colab": {
     "base_uri": "https://localhost:8080/",
     "height": 125
    },
    "colab_type": "code",
    "id": "WVpZXc7sJfwi",
    "outputId": "9b6f2fbf-345b-4be3-c661-9b45f45fbea3"
   },
   "outputs": [
    {
     "name": "stdout",
     "output_type": "stream",
     "text": [
      "total 1520\r\n",
      "drwxrwxr-x 4 talesaraujo talesaraujo    4096 ago  9 21:30 .\r\n",
      "drwxrwxr-x 4 talesaraujo talesaraujo    4096 ago  9 20:48 ..\r\n",
      "-rw-rw-r-- 1 talesaraujo talesaraujo      30 ago  9 20:48 .gitignore\r\n",
      "drwxrwxr-x 2 talesaraujo talesaraujo    4096 ago  9 20:54 .ipynb_checkpoints\r\n",
      "-rw-rw-r-- 1 talesaraujo talesaraujo 1382562 ago  9 21:30 lol_challenger_ranked.ipynb\r\n",
      "drwxrwxr-x 2 talesaraujo talesaraujo    4096 ago  9 14:28 lol_data\r\n",
      "-rw-rw-r-- 1 talesaraujo talesaraujo  150884 ago  9 20:48 mapa1-marca.webp\r\n"
     ]
    }
   ],
   "source": [
    "!ls -la"
   ]
  },
  {
   "cell_type": "code",
   "execution_count": 155,
   "metadata": {
    "colab": {
     "base_uri": "https://localhost:8080/",
     "height": 71
    },
    "colab_type": "code",
    "id": "tCPw20Aknlvi",
    "outputId": "941ad7d4-99be-4122-c4f5-fb213554ec15"
   },
   "outputs": [],
   "source": [
    "# Download do dataset (Kaggle)\n",
    "# !mkdir ~/.kaggle\n",
    "# !echo \"{\\\"username\\\":\\\"username\\\",\\\"key\\\":\\\"key\\\"}\" > ~/.kaggle/kaggle.json\n",
    "# !chmod 600 ~/.kaggle/kaggle.json"
   ]
  },
  {
   "cell_type": "code",
   "execution_count": 156,
   "metadata": {
    "colab": {
     "base_uri": "https://localhost:8080/",
     "height": 89
    },
    "colab_type": "code",
    "id": "TwpmOTlMn7mv",
    "outputId": "ad823f85-57e3-4383-b333-e00edf775546"
   },
   "outputs": [],
   "source": [
    "#!kaggle datasets download gyejr95/league-of-legends-challenger-ranked-games2020"
   ]
  },
  {
   "cell_type": "code",
   "execution_count": 157,
   "metadata": {
    "colab": {
     "base_uri": "https://localhost:8080/",
     "height": 107
    },
    "colab_type": "code",
    "id": "SceXYhTWqajU",
    "outputId": "ea287295-7183-4e4b-b245-011d7a61efbe"
   },
   "outputs": [],
   "source": [
    "# !unzip league-of-legends-challenger-ranked-games2020.zip -d lol_data\n",
    "# !rm league-of-legends-challenger-ranked-games2020.zip"
   ]
  },
  {
   "cell_type": "code",
   "execution_count": 158,
   "metadata": {
    "colab": {
     "base_uri": "https://localhost:8080/",
     "height": 73
    },
    "colab_type": "code",
    "id": "SyYGDSoCo0a0",
    "outputId": "2a25282e-7e2b-461f-c41d-ecae29aa1dbe"
   },
   "outputs": [],
   "source": [
    "import numpy as np\n",
    "import pandas as pd\n",
    "import matplotlib.pyplot as plt\n",
    "import seaborn as sns\n",
    "%matplotlib inline\n",
    "\n",
    "import os\n",
    "import warnings\n",
    "warnings.filterwarnings('ignore')\n",
    "\n",
    "pd.set_option('display.max_columns', None)\n",
    "\n",
    "DATAPATH = 'lol_data'"
   ]
  },
  {
   "cell_type": "markdown",
   "metadata": {},
   "source": [
    "O dataset escolhido contêm informações de partidas das três principais divisões."
   ]
  },
  {
   "cell_type": "code",
   "execution_count": 159,
   "metadata": {
    "colab": {},
    "colab_type": "code",
    "id": "1VIT6eFGpM_u"
   },
   "outputs": [],
   "source": [
    "c_df = pd.read_csv(f'{DATAPATH}/Challenger_Ranked_Games.csv')\n",
    "gm_df = pd.read_csv(f'{DATAPATH}/GrandMaster_Ranked_Games.csv')\n",
    "m_df = pd.read_csv(f'{DATAPATH}/Master_Ranked_Games.csv')"
   ]
  },
  {
   "cell_type": "markdown",
   "metadata": {},
   "source": [
    "Preferimos por unificar os três datasets em um só e criar uma nova coluna apenas com o Elo de cada partida"
   ]
  },
  {
   "cell_type": "code",
   "execution_count": 160,
   "metadata": {
    "colab": {},
    "colab_type": "code",
    "id": "L51RogOUpRYq"
   },
   "outputs": [],
   "source": [
    "challenger_series = pd.Series(['challenger' for i in range(c_df.shape[0])])\n",
    "grandmaster_series = pd.Series(['grandmaster' for i in range(gm_df.shape[0])])\n",
    "master_series = pd.Series(['master' for i in range(m_df.shape[0])])"
   ]
  },
  {
   "cell_type": "code",
   "execution_count": 161,
   "metadata": {
    "colab": {},
    "colab_type": "code",
    "id": "RTJt93CEpTdd"
   },
   "outputs": [],
   "source": [
    "c_df['ranking'] = challenger_series\n",
    "gm_df['ranking'] = grandmaster_series\n",
    "m_df['ranking'] = master_series"
   ]
  },
  {
   "cell_type": "code",
   "execution_count": 162,
   "metadata": {
    "colab": {},
    "colab_type": "code",
    "id": "D3RL4jN7pUMN"
   },
   "outputs": [],
   "source": [
    "frames = [c_df, gm_df, m_df]\n",
    "\n",
    "df = pd.concat(frames)\n",
    "df.reset_index(inplace=True, drop=True)"
   ]
  },
  {
   "cell_type": "markdown",
   "metadata": {},
   "source": [
    "Foi necessário também criar uma nova coluna com a duração das partidas em minutos para que pudessemos realizar as analises que desejávamos"
   ]
  },
  {
   "cell_type": "code",
   "execution_count": 163,
   "metadata": {
    "colab": {},
    "colab_type": "code",
    "id": "SPG74X1gpVHu"
   },
   "outputs": [],
   "source": [
    "df.rename(columns={\"gameDuraton\": \"gameDuration\"}, inplace=True)\n",
    "\n",
    "# Adding a column to keep track of game duration in minutes\n",
    "df.insert(loc=2, column='gameDurationMins', value=round(df['gameDuration']/60))\n",
    "\n",
    "rankings = df['ranking']\n",
    "df.drop(labels=['ranking'], axis=1, inplace=True)\n",
    "df.insert(1, 'ranking', rankings)"
   ]
  },
  {
   "cell_type": "code",
   "execution_count": 164,
   "metadata": {
    "colab": {
     "base_uri": "https://localhost:8080/",
     "height": 577
    },
    "colab_type": "code",
    "id": "pqDGk6fOpVey",
    "outputId": "b5629d53-b636-4582-e58c-0dcc33561820"
   },
   "outputs": [
    {
     "data": {
      "text/plain": [
       "<matplotlib.axes._subplots.AxesSubplot at 0x7fae1facded0>"
      ]
     },
     "execution_count": 164,
     "metadata": {},
     "output_type": "execute_result"
    },
    {
     "data": {
      "image/png": "[encoded data removed]",
      "text/plain": [
       "<Figure size 864x504 with 1 Axes>"
      ]
     },
     "metadata": {
      "needs_background": "light"
     },
     "output_type": "display_data"
    }
   ],
   "source": [
    "plt.figure(figsize=(12, 7))\n",
    "sns.heatmap(df.isnull(), yticklabels=False, cbar=False, cmap='Accent')"
   ]
  },
  {
   "cell_type": "markdown",
   "metadata": {},
   "source": [
    "## Barão antes dos 20?\n",
    "\n",
    "Descobrimos dados errôneos nas colunas referentes ao objetivo \"Barão\", uma vez que tinham partidas de menos de 20 minutos de duração que já tinham barons abatidos e em uma partida comum ele só aparece no mapa e fica disponível para ser abatido depois dos 20 minutos de partida.\n",
    "\n",
    "Logo tivemos que deletar as linhas que continham essas informações."
   ]
  },
  {
   "cell_type": "code",
   "execution_count": 165,
   "metadata": {},
   "outputs": [],
   "source": [
    "columns = ['blueFirstBaron', 'redFirstBaron', 'blueBaronKills', 'redBaronKills']\n",
    "\n",
    "for column in columns:\n",
    "    column_logical_values = np.logical_and(df['gameDurationMins'] < 20, df[column] == 1)\n",
    "    column_indexes = [i for i, value in enumerate(column_logical_values) if value]\n",
    "    df.drop(df.index[[column_indexes]], inplace=True)\n",
    "    df.reset_index(drop=True, inplace=True)"
   ]
  },
  {
   "cell_type": "code",
   "execution_count": 166,
   "metadata": {},
   "outputs": [
    {
     "name": "stdout",
     "output_type": "stream",
     "text": [
      "0 0 0 0\n"
     ]
    }
   ],
   "source": [
    "blue_f_baron = np.logical_and(df['gameDurationMins'] < 20, df['blueFirstBaron'] == 1).sum()\n",
    "red_f_baron = np.logical_and(df['gameDurationMins'] < 20, df['redFirstBaron'] == 1).sum()\n",
    "blue_baron_kills = np.logical_and(df['gameDurationMins'] < 20, df['blueBaronKills'] == 1).sum()\n",
    "red_baron_kills = np.logical_and(df['gameDurationMins'] < 20, df['redBaronKills'] == 1).sum()\n",
    "\n",
    "print(blue_f_baron, red_f_baron, blue_baron_kills, red_baron_kills)"
   ]
  },
  {
   "cell_type": "code",
   "execution_count": 167,
   "metadata": {},
   "outputs": [
    {
     "data": {
      "text/plain": [
       "<matplotlib.axes._subplots.AxesSubplot at 0x7fae1fa31290>"
      ]
     },
     "execution_count": 167,
     "metadata": {},
     "output_type": "execute_result"
    },
    {
     "data": {
      "image/png": "[encoded data removed]",
      "text/plain": [
       "<Figure size 504x288 with 1 Axes>"
      ]
     },
     "metadata": {
      "needs_background": "light"
     },
     "output_type": "display_data"
    }
   ],
   "source": [
    "plt.figure(figsize=(7, 4))\n",
    "sns.scatterplot(x=df['gameDurationMins'], y=df['blueAvgLevel'], hue=df['blueWins'], palette=\"RdYlGn\")"
   ]
  },
  {
   "cell_type": "code",
   "execution_count": 168,
   "metadata": {},
   "outputs": [],
   "source": [
    "df = df[df['blueAvgLevel'] <= 18]\n",
    "df = df[df['redAvgLevel'] <= 18]\n",
    "df.reset_index(inplace=True, drop=True)"
   ]
  },
  {
   "cell_type": "markdown",
   "metadata": {},
   "source": [
    "## Legenda sobre os atributos\n",
    "\n",
    "- **GameId:** Número único atrelado a toda a partida de League of Legends\n",
    "- **Ranking:** Divisão (ELO) da partida\n",
    "- **gameDuration:** Duração da partida em segundos\n",
    "- **gameDurationMins:** Duração da partida em minutos\n",
    "---------------------------------------\n",
    "#### Dados sobre o time azul\n",
    "- **blueWins:** Registra se a partida foi vitória ou derrota para o time azul(Derrota = 0, Vitória = 1)\n",
    "- **blueFirstBlood:** Registra se o time azul matou o primeiro inimigo na partida.\n",
    "- **blueFirstTower:** Registra se o time azul destruiu a primeira torre na partida.\n",
    "- **blueFirstBaron:** Registra se o time azul abateu o primeiro Baron Nashor na partida.\n",
    "- **blueFirstDragon:** Registra se o time azul abateu o primeiro Dragão na partida.\n",
    "- **blueFirstInhibitor:** Registra se o time azul abateu o primeiro inibidor na partida.\n",
    "- **blueDragonKills:** Contabiliza quantos dragões foram abatidos pelo time azul.\n",
    "- **blueBaronKills:** Contabiliza quantos Barons Nashor foram abatidos pelo time azul.\n",
    "- **blueTowerKills:** Contabiliza quantas torres foram destruidas pelo time azul.\n",
    "- **blueInhibitorKills:** Contabiliza quantos inibidores foram destruidas pelo time azul.\n",
    "- **blueWardPlaced:** Contabiliza quantas sentinelas foram colocadas pelo time azul.\n",
    "- **blueWardkills:** Contabiliza quantas sentinelas inimigas foram destruidas pelo time azul.\n",
    "- **blueKills:** Contabiliza quantos inimigos foram abatidos pelo time azul.\n",
    "- **blueDeath:** Contabiliza quantos aliados do time azul foram mortos.\n",
    "- **blueAssist:** Contabiliza quantas assistencias (colaborações para abates de inimigos) do time azul ocorreram.\n",
    "- **blueChampionDamageDealt:** Contabiliza o total de dano causado a campeões inimigos pelo time azul.\n",
    "- **blueTotalGold:** Contabiliza o total de ouro adquirido pelo time azul.\n",
    "- **blueTotalMinionKills:** Contabiliza o total de tropas abatidas pelo time azul.\n",
    "- **blueTotalLevel:** Contabiliza o total de níveis conquistados pelo time azul.\n",
    "- **blueAvgLevel:** Contabiliza a média de níveis conquistados pelo time azul.\n",
    "- **blueJungleMinionKills:** Contabiliza os (objetivos+tropas) abatidos pelo Jungle time azul.\n",
    "- **blueKillingSpree:** Contabiliza a ocorrência de killingSpree (Quando um jogador mata 3 inimigos ao logo da partida sem morrer) do time azul.\n",
    "- **blueTotalHeal:** Contabiliza o total de vida curada pelo time azul.\n",
    "- **blueObjectDamageDealt:** Contabiliza o total de dano causado a estruturas (Torres, inibidores e nexus) pelo time azul.\n",
    "---------------------------------------\n",
    "#### Dados sobre o time vermelho\n",
    "\n",
    "- **redWins:** Registra se a partida foi vitória ou derrota para o time vermelho (Derrota = 0, Vitória = 1)\n",
    "- **redFirstBlood:** Registra se o time vermelho matou o primeiro inimigo na partida.\n",
    "- **redFirstTower:** Registra se o time vermelho destruiu a primeira torre na partida.\n",
    "- **redFirstBaron:** Registra se o time vermelho abateu o primeiro Baron Nashor na partida.\n",
    "- **redFirstDragon:** Registra se o time vermelho abateu o primeiro Dragão na partida.\n",
    "- **redFirstInhibitor:** Registra se o time vermelho abateu o primeiro inibidor na partida.\n",
    "- **redDragonKills:** Contabiliza quantos dragões foram abatidos pelo time vermelho.\n",
    "- **redBaronKills:** Contabiliza quantos Barons Nashor foram abatidos pelo time vermelho.\n",
    "- **redTowerKills:** Contabiliza quantas torres foram destruidas pelo time vermelho.\n",
    "- **redInhibitorKills:** Contabiliza quantos inibidores foram destruidas pelo time vermelho.\n",
    "- **redWardPlaced:** Contabiliza quantas sentinelas foram colocadas pelo time vermelho.\n",
    "- **redWardkills:** Contabiliza quantas sentinelas inimigas foram destruidas pelo time vermelho.\n",
    "- **redKills:** Contabiliza quantos inimigos foram abatidos pelo time vermelho.\n",
    "- **redDeath:** Contabiliza quantos aliados do time vermelho foram mortos.\n",
    "- **redAssist:** Contabiliza quantas assistencias (colaborações para abates de inimigos) do time vermelho ocorreram.\n",
    "- **redChampionDamageDealt:** Contabiliza o total de dano causado a campeões inimigos pelo time vermelho.\n",
    "- **redTotalGold:** Contabiliza o total de ouro adquirido pelo time vermelho.\n",
    "- **redTotalMinionKills:** Contabiliza o total de tropas abatidas pelo time vermelho.\n",
    "- **redTotalLevel:** Contabiliza o total de níveis conquistados pelo time vermelho.\n",
    "- **redAvgLevel:** Contabiliza a média de níveis conquistados pelo time vermelho.\n",
    "- **redJungleMinionKills:** Contabiliza os (objetivos+tropas) abatidos pelo Jungle time vermelho.\n",
    "- **redKillingSpree:** Contabiliza a ocorrência de killingSpree (Quando um jogador mata 3 inimigos ao logo da partida sem morrer) do time vermelho.\n",
    "- **redTotalHeal:** Contabiliza o total de vida curada pelo time vermelho.\n",
    "- **redObjectDamageDealt:** Contabiliza o total de dano causado a estruturas (Torres, inibidores e nexus) pelo time vermelho.\n"
   ]
  },
  {
   "cell_type": "code",
   "execution_count": 169,
   "metadata": {
    "colab": {
     "base_uri": "https://localhost:8080/",
     "height": 226
    },
    "colab_type": "code",
    "id": "IJmAS14XpWAP",
    "outputId": "a82235e5-da2d-413d-db9f-519539110755"
   },
   "outputs": [
    {
     "data": {
      "text/html": [
       "<div>\n",
       "<style scoped>\n",
       "    .dataframe tbody tr th:only-of-type {\n",
       "        vertical-align: middle;\n",
       "    }\n",
       "\n",
       "    .dataframe tbody tr th {\n",
       "        vertical-align: top;\n",
       "    }\n",
       "\n",
       "    .dataframe thead th {\n",
       "        text-align: right;\n",
       "    }\n",
       "</style>\n",
       "<table border=\"1\" class=\"dataframe\">\n",
       "  <thead>\n",
       "    <tr style=\"text-align: right;\">\n",
       "      <th></th>\n",
       "      <th>gameId</th>\n",
       "      <th>ranking</th>\n",
       "      <th>gameDuration</th>\n",
       "      <th>gameDurationMins</th>\n",
       "      <th>blueWins</th>\n",
       "      <th>blueFirstBlood</th>\n",
       "      <th>blueFirstTower</th>\n",
       "      <th>blueFirstBaron</th>\n",
       "      <th>blueFirstDragon</th>\n",
       "      <th>blueFirstInhibitor</th>\n",
       "      <th>blueDragonKills</th>\n",
       "      <th>blueBaronKills</th>\n",
       "      <th>blueTowerKills</th>\n",
       "      <th>blueInhibitorKills</th>\n",
       "      <th>blueWardPlaced</th>\n",
       "      <th>blueWardkills</th>\n",
       "      <th>blueKills</th>\n",
       "      <th>blueDeath</th>\n",
       "      <th>blueAssist</th>\n",
       "      <th>blueChampionDamageDealt</th>\n",
       "      <th>blueTotalGold</th>\n",
       "      <th>blueTotalMinionKills</th>\n",
       "      <th>blueTotalLevel</th>\n",
       "      <th>blueAvgLevel</th>\n",
       "      <th>blueJungleMinionKills</th>\n",
       "      <th>blueKillingSpree</th>\n",
       "      <th>blueTotalHeal</th>\n",
       "      <th>blueObjectDamageDealt</th>\n",
       "      <th>redWins</th>\n",
       "      <th>redFirstBlood</th>\n",
       "      <th>redFirstTower</th>\n",
       "      <th>redFirstBaron</th>\n",
       "      <th>redFirstDragon</th>\n",
       "      <th>redFirstInhibitor</th>\n",
       "      <th>redDragonKills</th>\n",
       "      <th>redBaronKills</th>\n",
       "      <th>redTowerKills</th>\n",
       "      <th>redInhibitorKills</th>\n",
       "      <th>redWardPlaced</th>\n",
       "      <th>redWardkills</th>\n",
       "      <th>redKills</th>\n",
       "      <th>redDeath</th>\n",
       "      <th>redAssist</th>\n",
       "      <th>redChampionDamageDealt</th>\n",
       "      <th>redTotalGold</th>\n",
       "      <th>redTotalMinionKills</th>\n",
       "      <th>redTotalLevel</th>\n",
       "      <th>redAvgLevel</th>\n",
       "      <th>redJungleMinionKills</th>\n",
       "      <th>redKillingSpree</th>\n",
       "      <th>redTotalHeal</th>\n",
       "      <th>redObjectDamageDealt</th>\n",
       "    </tr>\n",
       "  </thead>\n",
       "  <tbody>\n",
       "    <tr>\n",
       "      <th>0</th>\n",
       "      <td>4247263043</td>\n",
       "      <td>challenger</td>\n",
       "      <td>1323</td>\n",
       "      <td>22.0</td>\n",
       "      <td>0</td>\n",
       "      <td>1</td>\n",
       "      <td>0</td>\n",
       "      <td>0</td>\n",
       "      <td>0</td>\n",
       "      <td>0</td>\n",
       "      <td>0</td>\n",
       "      <td>0</td>\n",
       "      <td>0</td>\n",
       "      <td>0</td>\n",
       "      <td>38</td>\n",
       "      <td>13</td>\n",
       "      <td>15</td>\n",
       "      <td>31</td>\n",
       "      <td>22</td>\n",
       "      <td>56039</td>\n",
       "      <td>37001</td>\n",
       "      <td>440</td>\n",
       "      <td>56</td>\n",
       "      <td>11.2</td>\n",
       "      <td>105</td>\n",
       "      <td>4</td>\n",
       "      <td>31035</td>\n",
       "      <td>5675</td>\n",
       "      <td>1</td>\n",
       "      <td>0</td>\n",
       "      <td>1</td>\n",
       "      <td>0</td>\n",
       "      <td>1</td>\n",
       "      <td>1</td>\n",
       "      <td>3</td>\n",
       "      <td>0</td>\n",
       "      <td>9</td>\n",
       "      <td>1</td>\n",
       "      <td>50</td>\n",
       "      <td>17</td>\n",
       "      <td>31</td>\n",
       "      <td>15</td>\n",
       "      <td>68</td>\n",
       "      <td>73016</td>\n",
       "      <td>49832</td>\n",
       "      <td>533</td>\n",
       "      <td>64</td>\n",
       "      <td>12.8</td>\n",
       "      <td>138</td>\n",
       "      <td>8</td>\n",
       "      <td>38711</td>\n",
       "      <td>60463</td>\n",
       "    </tr>\n",
       "    <tr>\n",
       "      <th>1</th>\n",
       "      <td>4247155821</td>\n",
       "      <td>challenger</td>\n",
       "      <td>1317</td>\n",
       "      <td>22.0</td>\n",
       "      <td>1</td>\n",
       "      <td>0</td>\n",
       "      <td>0</td>\n",
       "      <td>0</td>\n",
       "      <td>1</td>\n",
       "      <td>0</td>\n",
       "      <td>2</td>\n",
       "      <td>0</td>\n",
       "      <td>4</td>\n",
       "      <td>0</td>\n",
       "      <td>57</td>\n",
       "      <td>18</td>\n",
       "      <td>19</td>\n",
       "      <td>8</td>\n",
       "      <td>31</td>\n",
       "      <td>60243</td>\n",
       "      <td>41072</td>\n",
       "      <td>531</td>\n",
       "      <td>63</td>\n",
       "      <td>12.6</td>\n",
       "      <td>111</td>\n",
       "      <td>3</td>\n",
       "      <td>26397</td>\n",
       "      <td>45303</td>\n",
       "      <td>0</td>\n",
       "      <td>1</td>\n",
       "      <td>1</td>\n",
       "      <td>0</td>\n",
       "      <td>0</td>\n",
       "      <td>0</td>\n",
       "      <td>0</td>\n",
       "      <td>0</td>\n",
       "      <td>2</td>\n",
       "      <td>0</td>\n",
       "      <td>46</td>\n",
       "      <td>18</td>\n",
       "      <td>8</td>\n",
       "      <td>19</td>\n",
       "      <td>8</td>\n",
       "      <td>44218</td>\n",
       "      <td>37136</td>\n",
       "      <td>571</td>\n",
       "      <td>59</td>\n",
       "      <td>11.8</td>\n",
       "      <td>134</td>\n",
       "      <td>3</td>\n",
       "      <td>24829</td>\n",
       "      <td>14105</td>\n",
       "    </tr>\n",
       "    <tr>\n",
       "      <th>2</th>\n",
       "      <td>4243963257</td>\n",
       "      <td>challenger</td>\n",
       "      <td>932</td>\n",
       "      <td>16.0</td>\n",
       "      <td>0</td>\n",
       "      <td>0</td>\n",
       "      <td>0</td>\n",
       "      <td>0</td>\n",
       "      <td>0</td>\n",
       "      <td>0</td>\n",
       "      <td>0</td>\n",
       "      <td>0</td>\n",
       "      <td>0</td>\n",
       "      <td>0</td>\n",
       "      <td>28</td>\n",
       "      <td>7</td>\n",
       "      <td>5</td>\n",
       "      <td>20</td>\n",
       "      <td>8</td>\n",
       "      <td>24014</td>\n",
       "      <td>22929</td>\n",
       "      <td>306</td>\n",
       "      <td>42</td>\n",
       "      <td>8.4</td>\n",
       "      <td>64</td>\n",
       "      <td>0</td>\n",
       "      <td>6567</td>\n",
       "      <td>5651</td>\n",
       "      <td>1</td>\n",
       "      <td>1</td>\n",
       "      <td>1</td>\n",
       "      <td>0</td>\n",
       "      <td>1</td>\n",
       "      <td>1</td>\n",
       "      <td>2</td>\n",
       "      <td>0</td>\n",
       "      <td>5</td>\n",
       "      <td>1</td>\n",
       "      <td>40</td>\n",
       "      <td>9</td>\n",
       "      <td>20</td>\n",
       "      <td>5</td>\n",
       "      <td>20</td>\n",
       "      <td>30797</td>\n",
       "      <td>35364</td>\n",
       "      <td>400</td>\n",
       "      <td>50</td>\n",
       "      <td>10.0</td>\n",
       "      <td>89</td>\n",
       "      <td>5</td>\n",
       "      <td>12589</td>\n",
       "      <td>45201</td>\n",
       "    </tr>\n",
       "    <tr>\n",
       "      <th>3</th>\n",
       "      <td>4241678498</td>\n",
       "      <td>challenger</td>\n",
       "      <td>2098</td>\n",
       "      <td>35.0</td>\n",
       "      <td>0</td>\n",
       "      <td>0</td>\n",
       "      <td>0</td>\n",
       "      <td>1</td>\n",
       "      <td>1</td>\n",
       "      <td>0</td>\n",
       "      <td>1</td>\n",
       "      <td>1</td>\n",
       "      <td>2</td>\n",
       "      <td>0</td>\n",
       "      <td>129</td>\n",
       "      <td>39</td>\n",
       "      <td>26</td>\n",
       "      <td>36</td>\n",
       "      <td>45</td>\n",
       "      <td>101607</td>\n",
       "      <td>63447</td>\n",
       "      <td>774</td>\n",
       "      <td>80</td>\n",
       "      <td>16.0</td>\n",
       "      <td>226</td>\n",
       "      <td>3</td>\n",
       "      <td>24718</td>\n",
       "      <td>31019</td>\n",
       "      <td>1</td>\n",
       "      <td>1</td>\n",
       "      <td>1</td>\n",
       "      <td>0</td>\n",
       "      <td>0</td>\n",
       "      <td>0</td>\n",
       "      <td>3</td>\n",
       "      <td>1</td>\n",
       "      <td>6</td>\n",
       "      <td>0</td>\n",
       "      <td>96</td>\n",
       "      <td>56</td>\n",
       "      <td>36</td>\n",
       "      <td>26</td>\n",
       "      <td>72</td>\n",
       "      <td>125866</td>\n",
       "      <td>70528</td>\n",
       "      <td>832</td>\n",
       "      <td>84</td>\n",
       "      <td>16.8</td>\n",
       "      <td>205</td>\n",
       "      <td>9</td>\n",
       "      <td>65312</td>\n",
       "      <td>88202</td>\n",
       "    </tr>\n",
       "    <tr>\n",
       "      <th>4</th>\n",
       "      <td>4241538868</td>\n",
       "      <td>challenger</td>\n",
       "      <td>2344</td>\n",
       "      <td>39.0</td>\n",
       "      <td>1</td>\n",
       "      <td>1</td>\n",
       "      <td>1</td>\n",
       "      <td>1</td>\n",
       "      <td>1</td>\n",
       "      <td>1</td>\n",
       "      <td>2</td>\n",
       "      <td>2</td>\n",
       "      <td>11</td>\n",
       "      <td>3</td>\n",
       "      <td>114</td>\n",
       "      <td>35</td>\n",
       "      <td>27</td>\n",
       "      <td>40</td>\n",
       "      <td>47</td>\n",
       "      <td>134826</td>\n",
       "      <td>74955</td>\n",
       "      <td>831</td>\n",
       "      <td>83</td>\n",
       "      <td>16.6</td>\n",
       "      <td>252</td>\n",
       "      <td>5</td>\n",
       "      <td>37161</td>\n",
       "      <td>95287</td>\n",
       "      <td>0</td>\n",
       "      <td>0</td>\n",
       "      <td>0</td>\n",
       "      <td>0</td>\n",
       "      <td>0</td>\n",
       "      <td>0</td>\n",
       "      <td>3</td>\n",
       "      <td>1</td>\n",
       "      <td>6</td>\n",
       "      <td>1</td>\n",
       "      <td>100</td>\n",
       "      <td>43</td>\n",
       "      <td>40</td>\n",
       "      <td>27</td>\n",
       "      <td>83</td>\n",
       "      <td>131536</td>\n",
       "      <td>74596</td>\n",
       "      <td>794</td>\n",
       "      <td>85</td>\n",
       "      <td>17.0</td>\n",
       "      <td>227</td>\n",
       "      <td>7</td>\n",
       "      <td>86431</td>\n",
       "      <td>64141</td>\n",
       "    </tr>\n",
       "  </tbody>\n",
       "</table>\n",
       "</div>"
      ],
      "text/plain": [
       "       gameId     ranking  gameDuration  gameDurationMins  blueWins  \\\n",
       "0  4247263043  challenger          1323              22.0         0   \n",
       "1  4247155821  challenger          1317              22.0         1   \n",
       "2  4243963257  challenger           932              16.0         0   \n",
       "3  4241678498  challenger          2098              35.0         0   \n",
       "4  4241538868  challenger          2344              39.0         1   \n",
       "\n",
       "   blueFirstBlood  blueFirstTower  blueFirstBaron  blueFirstDragon  \\\n",
       "0               1               0               0                0   \n",
       "1               0               0               0                1   \n",
       "2               0               0               0                0   \n",
       "3               0               0               1                1   \n",
       "4               1               1               1                1   \n",
       "\n",
       "   blueFirstInhibitor  blueDragonKills  blueBaronKills  blueTowerKills  \\\n",
       "0                   0                0               0               0   \n",
       "1                   0                2               0               4   \n",
       "2                   0                0               0               0   \n",
       "3                   0                1               1               2   \n",
       "4                   1                2               2              11   \n",
       "\n",
       "   blueInhibitorKills  blueWardPlaced  blueWardkills  blueKills  blueDeath  \\\n",
       "0                   0              38             13         15         31   \n",
       "1                   0              57             18         19          8   \n",
       "2                   0              28              7          5         20   \n",
       "3                   0             129             39         26         36   \n",
       "4                   3             114             35         27         40   \n",
       "\n",
       "   blueAssist  blueChampionDamageDealt  blueTotalGold  blueTotalMinionKills  \\\n",
       "0          22                    56039          37001                   440   \n",
       "1          31                    60243          41072                   531   \n",
       "2           8                    24014          22929                   306   \n",
       "3          45                   101607          63447                   774   \n",
       "4          47                   134826          74955                   831   \n",
       "\n",
       "   blueTotalLevel  blueAvgLevel  blueJungleMinionKills  blueKillingSpree  \\\n",
       "0              56          11.2                    105                 4   \n",
       "1              63          12.6                    111                 3   \n",
       "2              42           8.4                     64                 0   \n",
       "3              80          16.0                    226                 3   \n",
       "4              83          16.6                    252                 5   \n",
       "\n",
       "   blueTotalHeal  blueObjectDamageDealt  redWins  redFirstBlood  \\\n",
       "0          31035                   5675        1              0   \n",
       "1          26397                  45303        0              1   \n",
       "2           6567                   5651        1              1   \n",
       "3          24718                  31019        1              1   \n",
       "4          37161                  95287        0              0   \n",
       "\n",
       "   redFirstTower  redFirstBaron  redFirstDragon  redFirstInhibitor  \\\n",
       "0              1              0               1                  1   \n",
       "1              1              0               0                  0   \n",
       "2              1              0               1                  1   \n",
       "3              1              0               0                  0   \n",
       "4              0              0               0                  0   \n",
       "\n",
       "   redDragonKills  redBaronKills  redTowerKills  redInhibitorKills  \\\n",
       "0               3              0              9                  1   \n",
       "1               0              0              2                  0   \n",
       "2               2              0              5                  1   \n",
       "3               3              1              6                  0   \n",
       "4               3              1              6                  1   \n",
       "\n",
       "   redWardPlaced  redWardkills  redKills  redDeath  redAssist  \\\n",
       "0             50            17        31        15         68   \n",
       "1             46            18         8        19          8   \n",
       "2             40             9        20         5         20   \n",
       "3             96            56        36        26         72   \n",
       "4            100            43        40        27         83   \n",
       "\n",
       "   redChampionDamageDealt  redTotalGold  redTotalMinionKills  redTotalLevel  \\\n",
       "0                   73016         49832                  533             64   \n",
       "1                   44218         37136                  571             59   \n",
       "2                   30797         35364                  400             50   \n",
       "3                  125866         70528                  832             84   \n",
       "4                  131536         74596                  794             85   \n",
       "\n",
       "   redAvgLevel  redJungleMinionKills  redKillingSpree  redTotalHeal  \\\n",
       "0         12.8                   138                8         38711   \n",
       "1         11.8                   134                3         24829   \n",
       "2         10.0                    89                5         12589   \n",
       "3         16.8                   205                9         65312   \n",
       "4         17.0                   227                7         86431   \n",
       "\n",
       "   redObjectDamageDealt  \n",
       "0                 60463  \n",
       "1                 14105  \n",
       "2                 45201  \n",
       "3                 88202  \n",
       "4                 64141  "
      ]
     },
     "execution_count": 169,
     "metadata": {},
     "output_type": "execute_result"
    }
   ],
   "source": [
    "df.head(5)"
   ]
  },
  {
   "cell_type": "markdown",
   "metadata": {},
   "source": [
    "### Quantidade de partidas por *ELO* (ranking de partidas ranqueadas) no dataset"
   ]
  },
  {
   "cell_type": "code",
   "execution_count": 170,
   "metadata": {
    "colab": {
     "base_uri": "https://localhost:8080/",
     "height": 283
    },
    "colab_type": "code",
    "id": "AiwKfTO9pjs-",
    "outputId": "916c227e-b6b1-4a0b-882c-0ed751b27ff5"
   },
   "outputs": [
    {
     "data": {
      "text/plain": [
       "<matplotlib.axes._subplots.AxesSubplot at 0x7fae1f969090>"
      ]
     },
     "execution_count": 170,
     "metadata": {},
     "output_type": "execute_result"
    },
    {
     "data": {
      "image/png": "[encoded data removed]",
      "text/plain": [
       "<Figure size 432x288 with 1 Axes>"
      ]
     },
     "metadata": {
      "needs_background": "light"
     },
     "output_type": "display_data"
    }
   ],
   "source": [
    "df['ranking'].hist()"
   ]
  },
  {
   "cell_type": "code",
   "execution_count": 171,
   "metadata": {
    "colab": {
     "base_uri": "https://localhost:8080/",
     "height": 89
    },
    "colab_type": "code",
    "id": "MGQdpimvdYOD",
    "outputId": "0bc6384b-1013-46eb-a7d5-b0e4836eb1aa"
   },
   "outputs": [
    {
     "data": {
      "text/plain": [
       "master         105891\n",
       "grandmaster     65238\n",
       "challenger      26652\n",
       "Name: ranking, dtype: int64"
      ]
     },
     "execution_count": 171,
     "metadata": {},
     "output_type": "execute_result"
    }
   ],
   "source": [
    "df['ranking'].value_counts()"
   ]
  },
  {
   "cell_type": "markdown",
   "metadata": {},
   "source": [
    "### Duração de partidas agrupadas por ELO\n",
    "\n",
    "Uma informação interessante que encontramos analisando esse gráfico foi que nos minutos 15, 20 e 30 houve um pico de términos nas partidas.\n",
    "\n",
    "Isso pode se dar pelo fato de que os minutos 15 e 20 são os que liberam a possibilidade de se render e declarar automaticamente a vitória para o time inimigo, para tal, caso um time inicie a votação para se render entre o minuto 15 e o minuto 20 é necessário que todos do time votem a favor, a partir do minuto 20 é necessário apenas que 4 dos cinco jogadores do time que iniciou a votação concordem com a rendição."
   ]
  },
  {
   "cell_type": "code",
   "execution_count": 172,
   "metadata": {
    "colab": {
     "base_uri": "https://localhost:8080/",
     "height": 435
    },
    "colab_type": "code",
    "id": "l3aDxhr_aoqK",
    "outputId": "c209354c-fb06-4761-d86c-ab0db0969593"
   },
   "outputs": [
    {
     "data": {
      "image/png": "[encoded data removed]",
      "text/plain": [
       "<Figure size 864x432 with 1 Axes>"
      ]
     },
     "metadata": {
      "needs_background": "light"
     },
     "output_type": "display_data"
    }
   ],
   "source": [
    "rankings = ['master', 'grandmaster', 'challenger']\n",
    "game_durations_by_ranking = [df[df['ranking'] == rank]['gameDurationMins'] for rank in rankings]\n",
    "\n",
    "fig, ax = plt.subplots(figsize=(12, 6))\n",
    "ax.set(ylabel='Number of games')\n",
    "for i, game in enumerate(game_durations_by_ranking):\n",
    "    sns.distplot(game, hist=True, kde=False, axlabel=\"Game Duration (mins)\", label=rankings[i])\n",
    "ax.set_title(\"Game durations grouped by ELO Ranking\")\n",
    "fig.legend()\n",
    "plt.show()"
   ]
  },
  {
   "cell_type": "markdown",
   "metadata": {},
   "source": [
    "### Verificando a porcentagem de vitória por lado do mapa"
   ]
  },
  {
   "cell_type": "code",
   "execution_count": 173,
   "metadata": {
    "colab": {
     "base_uri": "https://localhost:8080/",
     "height": 266
    },
    "colab_type": "code",
    "id": "ERHhSFOIIEQI",
    "outputId": "86514aa4-a640-4a7e-ef5b-b7e75a2bc6e3"
   },
   "outputs": [
    {
     "data": {
      "image/png": "[encoded data removed]",
      "text/plain": [
       "<Figure size 432x288 with 1 Axes>"
      ]
     },
     "metadata": {},
     "output_type": "display_data"
    }
   ],
   "source": [
    "data = df[\"blueWins\"].value_counts()\n",
    "labels = [\"Red Side Win\", \"Blue Side Win\"]\n",
    "\n",
    "fig, ax = plt.subplots()\n",
    "ax.pie(data, labels=labels, autopct='%1.1f%%', startangle=90, colors='rb')\n",
    "ax.axis('equal')\n",
    "\n",
    "plt.show()"
   ]
  },
  {
   "cell_type": "code",
   "execution_count": 174,
   "metadata": {
    "colab": {},
    "colab_type": "code",
    "id": "vqKKj2nnpvD5"
   },
   "outputs": [],
   "source": [
    "columns = ['redWins', 'blueWins']\n",
    "\n",
    "win_mapping = {0: \"DEFEAT\", 1: \"WIN\"}\n",
    "\n",
    "for col in columns:\n",
    "    df[col] = df[col].map(win_mapping)"
   ]
  },
  {
   "cell_type": "markdown",
   "metadata": {},
   "source": [
    "### Verificando a quantidade de vitórias por lado do mapa\n",
    "\n",
    "Aqui podemos mais uma vez ver a ligeira vantagem do time vermelho para a conquista da vitória em Summoners Rift."
   ]
  },
  {
   "cell_type": "code",
   "execution_count": 175,
   "metadata": {
    "colab": {},
    "colab_type": "code",
    "id": "6vu1OTuG8XHu"
   },
   "outputs": [
    {
     "data": {
      "text/plain": [
       "<matplotlib.axes._subplots.AxesSubplot at 0x7fae1f655b50>"
      ]
     },
     "execution_count": 175,
     "metadata": {},
     "output_type": "execute_result"
    },
    {
     "data": {
      "image/png": "[encoded data removed]",
      "text/plain": [
       "<Figure size 432x288 with 1 Axes>"
      ]
     },
     "metadata": {
      "needs_background": "light"
     },
     "output_type": "display_data"
    }
   ],
   "source": [
    "sns.countplot(x=df['ranking'], hue=df['blueWins'], palette=\"Set1\")"
   ]
  },
  {
   "cell_type": "markdown",
   "metadata": {},
   "source": [
    "## Conquista de vantagem em expepriência e nível é um fator impactante para vitória?\n",
    "\n",
    "No League of Legends, ao entrar na partida, seu personagem começa no nível 1 e pode chegar até o nível 18 ganhando experiência pelo mapa. \n",
    "\n",
    "O nível é um fator importante para a vitória uma vez que ele libera pontos de skills, liberando para o seu personagem novas habilidades e fazendo as habilidades já existentes ficarem mais fortes.\n",
    "\n",
    "Como podemos podemos ver os times que coletaram mais experiência com o passar do tempo conquistaram mais vitórias.\n",
    "\n",
    "Neste gráfico não estamos comparando o nível médio dos dois lados em uma mesma partida mas comparando com outras partidas do mesmo lado.\n",
    "\n",
    "### Analisando o fator \"nível\" com as vitórias e derrotas do lado azul com o passar do tempo  "
   ]
  },
  {
   "cell_type": "code",
   "execution_count": null,
   "metadata": {
    "colab": {},
    "colab_type": "code",
    "id": "NAZ7mucQp9kc"
   },
   "outputs": [
    {
     "data": {
      "text/plain": [
       "<matplotlib.axes._subplots.AxesSubplot at 0x7fae1f6e2610>"
      ]
     },
     "execution_count": 176,
     "metadata": {},
     "output_type": "execute_result"
    }
   ],
   "source": [
    "plt.figure(figsize=(12, 7))\n",
    "sns.scatterplot(x=df['gameDurationMins'], y=df['blueAvgLevel'], hue=df['blueWins'], palette=\"RdYlGn\")"
   ]
  },
  {
   "cell_type": "markdown",
   "metadata": {},
   "source": [
    "### Analisando o fator \"nível\" com as vitórias e derrotas do lado vermelho com o passar do tempo"
   ]
  },
  {
   "cell_type": "code",
   "execution_count": null,
   "metadata": {
    "colab": {},
    "colab_type": "code",
    "id": "O7D4YoW_p8_E"
   },
   "outputs": [],
   "source": [
    "plt.figure(figsize=(12, 7))\n",
    "sns.scatterplot(x=df['gameDurationMins'], y=df['redAvgLevel'], hue=df['redWins'], palette=\"Pastel2\")"
   ]
  },
  {
   "cell_type": "markdown",
   "metadata": {},
   "source": [
    "## Baron, um objetivo *game changing*\n",
    "\n",
    "O baron é um objetivo no mapa que quando abatido por um time concede a todos os seus membros 300 de ouro, buffs por 3 minutos nos status de todos os personagens do time e fortalece todas as tropas próximas aos personagens do time ao longo do mapa.\n",
    "Queríamos verificar a taxa de efetividade que esse objetivo tinha nas vitórias, uma vez conquistado, pois esse objetivo é conhecido na comunidade como um objetivo que pode virar partidas ou garantir aquelas partidas que estão equilibradas, tendo em vista a força dos buffs que este objetivo entrega.\n",
    "\n",
    "### Análise no lado azul"
   ]
  },
  {
   "cell_type": "code",
   "execution_count": null,
   "metadata": {},
   "outputs": [],
   "source": [
    "blue_f_baron = df.groupby('blueFirstBaron')['blueWins'].value_counts()\n",
    "red_f_baron = df.groupby('redFirstBaron')['redWins'].value_counts()"
   ]
  },
  {
   "cell_type": "code",
   "execution_count": null,
   "metadata": {
    "colab": {},
    "colab_type": "code",
    "id": "U5R6xdWm6xSz"
   },
   "outputs": [],
   "source": [
    "# Teams that claimed baron defeat and have actually won the match\n",
    "blue_f_baron[1].plot.pie(autopct='%1.1f%%')\n",
    "plt.ylabel(\"Blue team match result\")\n",
    "plt.show"
   ]
  },
  {
   "cell_type": "markdown",
   "metadata": {},
   "source": [
    "### Análise no lado vermelho"
   ]
  },
  {
   "cell_type": "code",
   "execution_count": null,
   "metadata": {
    "colab": {},
    "colab_type": "code",
    "id": "S-db66N-wgq3"
   },
   "outputs": [],
   "source": [
    "# Teams that claimed baron defeat and have actually won the match\n",
    "red_f_baron[1].plot.pie(autopct='%1.1f%%')\n",
    "plt.ylabel(\"Red team match result\")\n",
    "plt.show"
   ]
  },
  {
   "cell_type": "code",
   "execution_count": null,
   "metadata": {
    "colab": {},
    "colab_type": "code",
    "id": "_b8yAXr4D8Sk"
   },
   "outputs": [],
   "source": [
    "columns = ['redWins', 'blueWins']\n",
    "\n",
    "inv_win_mapping = {v: k for k, v in win_mapping.items()}\n",
    "\n",
    "for col in columns:\n",
    "    df[col] = df[col].map(inv_win_mapping)"
   ]
  },
  {
   "cell_type": "code",
   "execution_count": null,
   "metadata": {
    "colab": {},
    "colab_type": "code",
    "id": "HWwnf1wXKWMo"
   },
   "outputs": [],
   "source": [
    "blue_first_columns = ['blueWins', 'blueFirstBlood', 'blueFirstTower', 'blueFirstDragon', 'blueFirstBaron', 'blueFirstInhibitor']\n",
    "\n",
    "blue_amount_columns = [\n",
    "    'blueWins', 'blueKills', 'blueDeath', 'blueAssist', 'blueTowerKills', 'blueInhibitorKills', 'blueDragonKills', 'blueBaronKills',  'blueWardPlaced', \n",
    "    'blueWardkills', 'blueChampionDamageDealt', 'blueObjectDamageDealt', 'blueTotalGold', 'blueTotalMinionKills',  'blueTotalLevel', 'blueJungleMinionKills', \n",
    "    'blueKillingSpree', 'blueTotalHeal', \n",
    "] "
   ]
  },
  {
   "cell_type": "code",
   "execution_count": null,
   "metadata": {
    "colab": {},
    "colab_type": "code",
    "id": "SqIZi2v_11UZ"
   },
   "outputs": [],
   "source": [
    "plt.figure(figsize=(10, 8))\n",
    "plt.title(\"Correlation Matrix for winning a game by first acquiring goals (blue side)\")\n",
    "data = df[df['ranking'] == 'challenger'][blue_first_columns]\n",
    "sns.heatmap(data.corr(method='pearson'), annot=True, fmt=\".2f\", cmap=\"RdYlGn\")"
   ]
  },
  {
   "cell_type": "code",
   "execution_count": null,
   "metadata": {
    "colab": {},
    "colab_type": "code",
    "id": "f2uZugLCEleM"
   },
   "outputs": [],
   "source": [
    "plt.figure(figsize=(15, 12))\n",
    "data = df[df['ranking'] == 'challenger'][blue_amount_columns]\n",
    "sns.heatmap(data.corr(method='pearson'), annot=True, fmt=\".2f\", cmap=\"RdYlGn\")"
   ]
  },
  {
   "cell_type": "code",
   "execution_count": null,
   "metadata": {
    "colab": {},
    "colab_type": "code",
    "id": "rMDMv8x7qp5h"
   },
   "outputs": [],
   "source": [
    "red_first_columns = ['redWins', 'redFirstBlood', 'redFirstTower', 'redFirstDragon', 'redFirstBaron', 'redFirstInhibitor']\n",
    "\n",
    "red_amount_columns = [\n",
    "    'redWins', 'redKills', 'redDeath', 'redAssist', 'redTowerKills', 'redInhibitorKills', 'redDragonKills', 'redBaronKills',  'redWardPlaced', \n",
    "    'redWardkills', 'redChampionDamageDealt', 'redObjectDamageDealt', 'redTotalGold', 'redTotalMinionKills',  'redTotalLevel', 'redJungleMinionKills', \n",
    "    'redKillingSpree', 'redTotalHeal', \n",
    "]"
   ]
  },
  {
   "cell_type": "code",
   "execution_count": null,
   "metadata": {
    "colab": {},
    "colab_type": "code",
    "id": "ifFoVh3Yqcd5"
   },
   "outputs": [],
   "source": [
    "plt.figure(figsize=(10, 8))\n",
    "plt.title(\"Correlation Matrix for winning a game by first acquiring goals (red side)\")\n",
    "data = df[red_first_columns]\n",
    "sns.heatmap(data.corr(method='pearson'), annot=True, fmt=\".2f\", cmap=\"RdYlGn\")"
   ]
  },
  {
   "cell_type": "code",
   "execution_count": null,
   "metadata": {
    "colab": {},
    "colab_type": "code",
    "id": "B2Opcr8YrhhH"
   },
   "outputs": [],
   "source": [
    "plt.figure(figsize=(15, 12))\n",
    "data = df[red_amount_columns]\n",
    "sns.heatmap(data.corr(method='pearson'), annot=True, fmt=\".2f\", cmap=\"RdYlGn\")"
   ]
  },
  {
   "cell_type": "code",
   "execution_count": null,
   "metadata": {
    "colab": {},
    "colab_type": "code",
    "id": "YgiNedRtvi2M"
   },
   "outputs": [],
   "source": [
    "columns = ['blueWardPlaced', 'blueWardkills']\n",
    "palettes = ['Set1', 'RdYlGn']\n",
    "markers = ['o', 'x']\n",
    "\n",
    "fig, ax = plt.subplots(figsize=(12, 6))\n",
    "\n",
    "for i, col in enumerate(columns):\n",
    "    sns.scatterplot(x=df['gameDurationMins'], y=df[col], hue=df['blueWins'], palette=palettes[i], marker=markers[i])\n",
    "\n",
    "ax.set_title(\"Ward placement vs. ward kills (blue team)\")\n",
    "# fig.legend()\n",
    "plt.xlabel(\"Game duration (mins)\")\n",
    "plt.ylabel(\"Quantity\")\n",
    "plt.show()"
   ]
  },
  {
   "cell_type": "code",
   "execution_count": null,
   "metadata": {
    "colab": {},
    "colab_type": "code",
    "id": "QCQusgTfvjGQ"
   },
   "outputs": [],
   "source": [
    "# Percentual of matches with NO wards placed (elo-agnostic)\n",
    "((df[df['redWardPlaced'] == 0].shape[0]/df.shape[0])*100)+((df[df['blueWardPlaced'] == 0].shape[0]/df.shape[0])*100)"
   ]
  },
  {
   "cell_type": "code",
   "execution_count": null,
   "metadata": {
    "colab": {},
    "colab_type": "code",
    "id": "HEv37x-gvjWP"
   },
   "outputs": [],
   "source": [
    "individual_blue_att_columns = ['blueKills', 'blueDeath', 'blueAssist', \n",
    "                              'blueChampionDamageDealt', 'blueTotalGold', 'blueTotalMinionKills']\n",
    "\n",
    "individual_red_att_columns = ['redKills', 'redDeath', 'redAssist', \n",
    "                              'redChampionDamageDealt', 'redTotalGold', 'redTotalMinionKills']\n",
    "\n",
    "individual_att_columns = ['kills', 'deaths', 'assists', \n",
    "                              'championDamageDealt', 'totalGold', 'totalMinionKills']\n",
    "\n",
    "for i, col in enumerate(individual_att_columns):\n",
    "    df[col] = df[individual_blue_att_columns[i]] + df[individual_red_att_columns[i]]"
   ]
  },
  {
   "cell_type": "code",
   "execution_count": null,
   "metadata": {},
   "outputs": [],
   "source": [
    "info_by_rank = df.groupby('ranking')[individual_att_columns].mean().reset_index()\n",
    "info_by_rank"
   ]
  },
  {
   "cell_type": "code",
   "execution_count": null,
   "metadata": {},
   "outputs": [],
   "source": [
    "# Grouping ranking values and computing their minimum\n",
    "min_df = df.groupby('ranking')[individual_att_columns].min().reset_index()\n",
    "min_df = min_df[individual_att_columns]\n",
    "\n",
    "# Grouping ranking values and computing their maximum\n",
    "max_df = df.groupby('ranking')[individual_att_columns].max().reset_index()\n",
    "max_df = max_df[individual_att_columns]\n",
    "\n",
    "mean_df = info_by_rank[individual_att_columns]\n",
    "\n",
    "# Scaling all the features\n",
    "info_by_rank_scaled = pd.DataFrame((mean_df.values - min_df.values)/(max_df.values - min_df.values), \n",
    "                                   columns=individual_att_columns)\n",
    "info_by_rank_scaled.insert(loc=0, column='ranking', value=info_by_rank['ranking'])\n",
    "\n",
    "info_by_rank_scaled"
   ]
  },
  {
   "cell_type": "code",
   "execution_count": null,
   "metadata": {},
   "outputs": [],
   "source": [
    "categories = list(info_by_rank_scaled)[1:]\n",
    "N = len(categories)\n",
    "\n",
    "angles = [n / float(N) * 2 * np.pi for n in range(N)]\n",
    "angles += angles[:1]\n",
    "\n",
    "ax = plt.subplot(111, polar=True)\n",
    "\n",
    "ax.set_theta_offset(np.pi / 2)\n",
    "ax.set_theta_direction(-1)\n",
    "\n",
    "plt.xticks(angles[:-1], categories)\n",
    "\n",
    "values = info_by_rank_scaled.loc[0].drop('ranking').values.flatten().tolist()\n",
    "values += values[:1]\n",
    "ax.plot(angles, values, linewidth=1, linestyle='solid', label='challenger')\n",
    "ax.fill(angles, values, 'b', alpha=0.1)\n",
    "\n",
    "values = info_by_rank_scaled.loc[1].drop('ranking').values.flatten().tolist()\n",
    "values += values[:1]\n",
    "ax.plot(angles, values, linewidth=1, linestyle='solid', label='grandmaster')\n",
    "ax.fill(angles, values, 'g', alpha=0.1)\n",
    "\n",
    "values = info_by_rank_scaled.loc[2].drop('ranking').values.flatten().tolist()\n",
    "values += values[:1]\n",
    "ax.plot(angles, values, linewidth=1, linestyle='solid', label='master')\n",
    "ax.fill(angles, values, 'r', alpha=0.1)\n",
    "\n",
    "plt.legend(loc='upper right', bbox_to_anchor=(0.1, 0.1))\n",
    "plt.figure(figsize=(10, 10))\n",
    "plt.show()"
   ]
  },
  {
   "cell_type": "code",
   "execution_count": null,
   "metadata": {},
   "outputs": [],
   "source": []
  }
 ],
 "metadata": {
  "colab": {
   "collapsed_sections": [],
   "name": "lol-challenger-ranked.ipynb",
   "provenance": []
  },
  "kernelspec": {
   "display_name": "Python 3",
   "language": "python",
   "name": "python3"
  },
  "language_info": {
   "codemirror_mode": {
    "name": "ipython",
    "version": 3
   },
   "file_extension": ".py",
   "mimetype": "text/x-python",
   "name": "python",
   "nbconvert_exporter": "python",
   "pygments_lexer": "ipython3",
   "version": "3.7.7"
  }
 },
 "nbformat": 4,
 "nbformat_minor": 1
}
