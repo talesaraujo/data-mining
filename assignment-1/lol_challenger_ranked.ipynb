{
  "nbformat": 4,
  "nbformat_minor": 0,
  "metadata": {
    "colab": {
      "name": "lol-challenger-ranked.ipynb",
      "provenance": [],
      "collapsed_sections": []
    },
    "kernelspec": {
      "name": "python3",
      "display_name": "Python 3"
    }
  },
  "cells": [
    {
      "cell_type": "markdown",
      "metadata": {
        "id": "Lc0J9SG6nzb4",
        "colab_type": "text"
      },
      "source": [
        "Source: https://www.kaggle.com/gyejr95/league-of-legends-challenger-ranked-games2020"
      ]
    },
    {
      "cell_type": "markdown",
      "metadata": {
        "id": "6eA9t9gXDMyJ",
        "colab_type": "text"
      },
      "source": [
        "League of Legends (LoL) é um jogo multiplayer, modo arena de batalha, desenvolvido pela empresa Riot Games, onde o objetivo final é destruir a base inimiga e conquistar a vitória. Os meios de se sobrepor perante o inimigo e triunfar no campo de batalha são diversos e o jogo acaba por se tornar uma mistura entre habilidade individual e estratégia!"
      ]
    },
    {
      "cell_type": "code",
      "metadata": {
        "id": "WVpZXc7sJfwi",
        "colab_type": "code",
        "colab": {
          "base_uri": "https://localhost:8080/",
          "height": 125
        },
        "outputId": "9b6f2fbf-345b-4be3-c661-9b45f45fbea3"
      },
      "source": [
        "!ls -la"
      ],
      "execution_count": null,
      "outputs": [
        {
          "output_type": "stream",
          "text": [
            "total 20\n",
            "drwxr-xr-x 1 root root 4096 Aug  9 16:46 .\n",
            "drwxr-xr-x 1 root root 4096 Aug  9 16:18 ..\n",
            "drwxr-xr-x 1 root root 4096 Aug  3 16:17 .config\n",
            "drwxr-xr-x 2 root root 4096 Aug  9 16:46 lol_data\n",
            "drwxr-xr-x 1 root root 4096 Jul 30 16:30 sample_data\n"
          ],
          "name": "stdout"
        }
      ]
    },
    {
      "cell_type": "code",
      "metadata": {
        "id": "tCPw20Aknlvi",
        "colab_type": "code",
        "colab": {
          "base_uri": "https://localhost:8080/",
          "height": 71
        },
        "outputId": "941ad7d4-99be-4122-c4f5-fb213554ec15"
      },
      "source": [
        "# Download do dataset (Kaggle)\n",
        "!mkdir ~/.kaggle\n",
        "!echo \"{\\\"username\\\":\\\"talesaraujo\\\",\\\"key\\\":\\\"024f5f9f5b3576f9fb14e076d58062b7\\\"}\" > ~/.kaggle/kaggle.json\n",
        "!chmod 600 ~/.kaggle/kaggle.json"
      ],
      "execution_count": null,
      "outputs": [
        {
          "output_type": "stream",
          "text": [
            "mkdir: cannot create directory ‘/root/.kaggle’: File exists\n",
            "mkdir: cannot create directory ‘/root/.kaggle’: File exists\n",
            "mkdir: cannot create directory ‘/root/.kaggle’: File exists\n"
          ],
          "name": "stdout"
        }
      ]
    },
    {
      "cell_type": "code",
      "metadata": {
        "id": "TwpmOTlMn7mv",
        "colab_type": "code",
        "colab": {
          "base_uri": "https://localhost:8080/",
          "height": 89
        },
        "outputId": "ad823f85-57e3-4383-b333-e00edf775546"
      },
      "source": [
        "!kaggle datasets download gyejr95/league-of-legends-challenger-ranked-games2020"
      ],
      "execution_count": null,
      "outputs": [
        {
          "output_type": "stream",
          "text": [
            "Downloading league-of-legends-challenger-ranked-games2020.zip to /content\n",
            " 39% 5.00M/12.7M [00:01<00:01, 4.21MB/s]\n",
            "100% 12.7M/12.7M [00:01<00:00, 10.1MB/s]\n",
            "league-of-legends-challenger-ranked-games2020.zip: Skipping, found more recently modified local copy (use --force to force download)\n"
          ],
          "name": "stdout"
        }
      ]
    },
    {
      "cell_type": "code",
      "metadata": {
        "id": "SceXYhTWqajU",
        "colab_type": "code",
        "colab": {
          "base_uri": "https://localhost:8080/",
          "height": 107
        },
        "outputId": "ea287295-7183-4e4b-b245-011d7a61efbe"
      },
      "source": [
        "!unzip league-of-legends-challenger-ranked-games2020.zip -d lol_data\n",
        "!rm league-of-legends-challenger-ranked-games2020.zip"
      ],
      "execution_count": null,
      "outputs": [
        {
          "output_type": "stream",
          "text": [
            "Archive:  league-of-legends-challenger-ranked-games2020.zip\n",
            "replace lol_data/Challenger_Ranked_Games.csv? [y]es, [n]o, [A]ll, [N]one, [r]ename: A\n",
            "  inflating: lol_data/Challenger_Ranked_Games.csv  \n",
            "  inflating: lol_data/GrandMaster_Ranked_Games.csv  \n",
            "  inflating: lol_data/Master_Ranked_Games.csv  \n"
          ],
          "name": "stdout"
        }
      ]
    },
    {
      "cell_type": "code",
      "metadata": {
        "id": "SyYGDSoCo0a0",
        "colab_type": "code",
        "colab": {
          "base_uri": "https://localhost:8080/",
          "height": 73
        },
        "outputId": "2a25282e-7e2b-461f-c41d-ecae29aa1dbe"
      },
      "source": [
        "import numpy as np\n",
        "import pandas as pd\n",
        "import matplotlib.pyplot as plt\n",
        "import seaborn as sns\n",
        "%matplotlib inline\n",
        "\n",
        "import os\n",
        "\n",
        "pd.set_option('display.max_columns', None)\n",
        "\n",
        "DATAPATH = 'lol_data'"
      ],
      "execution_count": null,
      "outputs": [
        {
          "output_type": "stream",
          "text": [
            "/usr/local/lib/python3.6/dist-packages/statsmodels/tools/_testing.py:19: FutureWarning: pandas.util.testing is deprecated. Use the functions in the public API at pandas.testing instead.\n",
            "  import pandas.util.testing as tm\n"
          ],
          "name": "stderr"
        }
      ]
    },
    {
      "cell_type": "code",
      "metadata": {
        "id": "1VIT6eFGpM_u",
        "colab_type": "code",
        "colab": {}
      },
      "source": [
        "c_df = pd.read_csv(f'{DATAPATH}/Challenger_Ranked_Games.csv')\n",
        "gm_df = pd.read_csv(f'{DATAPATH}/GrandMaster_Ranked_Games.csv')\n",
        "m_df = pd.read_csv(f'{DATAPATH}/Master_Ranked_Games.csv')"
      ],
      "execution_count": null,
      "outputs": []
    },
    {
      "cell_type": "code",
      "metadata": {
        "id": "L51RogOUpRYq",
        "colab_type": "code",
        "colab": {}
      },
      "source": [
        "challenger_series = pd.Series(['challenger' for i in range(c_df.shape[0])])\n",
        "grandmaster_series = pd.Series(['grandmaster' for i in range(gm_df.shape[0])])\n",
        "master_series = pd.Series(['master' for i in range(m_df.shape[0])])"
      ],
      "execution_count": null,
      "outputs": []
    },
    {
      "cell_type": "code",
      "metadata": {
        "id": "RTJt93CEpTdd",
        "colab_type": "code",
        "colab": {}
      },
      "source": [
        "c_df['ranking'] = challenger_series\n",
        "gm_df['ranking'] = grandmaster_series\n",
        "m_df['ranking'] = master_series"
      ],
      "execution_count": null,
      "outputs": []
    },
    {
      "cell_type": "code",
      "metadata": {
        "id": "D3RL4jN7pUMN",
        "colab_type": "code",
        "colab": {}
      },
      "source": [
        "frames = [c_df, gm_df, m_df]\n",
        "\n",
        "df = pd.concat(frames)\n",
        "df.reset_index(inplace=True, drop=True)"
      ],
      "execution_count": null,
      "outputs": []
    },
    {
      "cell_type": "code",
      "metadata": {
        "id": "SPG74X1gpVHu",
        "colab_type": "code",
        "colab": {}
      },
      "source": [
        "df.rename(columns={\"gameDuraton\": \"gameDuration\"}, inplace=True)\n",
        "\n",
        "# Adding a column to keep track of game duration in minutes\n",
        "df.insert(loc=2, column='gameDurationMins', value=round(df['gameDuration']/60))\n",
        "\n",
        "rankings = df['ranking']\n",
        "df.drop(labels=['ranking'], axis=1, inplace=True)\n",
        "df.insert(1, 'ranking', rankings)"
      ],
      "execution_count": null,
      "outputs": []
    },
    {
      "cell_type": "code",
      "metadata": {
        "id": "pqDGk6fOpVey",
        "colab_type": "code",
        "colab": {
          "base_uri": "https://localhost:8080/",
          "height": 577
        },
        "outputId": "b5629d53-b636-4582-e58c-0dcc33561820"
      },
      "source": [
        "plt.figure(figsize=(12, 7))\n",
        "sns.heatmap(df.isnull(), yticklabels=False, cbar=False, cmap='YlGnBu')"
      ],
      "execution_count": null,
      "outputs": [
        {
          "output_type": "execute_result",
          "data": {
            "text/plain": [
              "<matplotlib.axes._subplots.AxesSubplot at 0x7f0d49115f98>"
            ]
          },
          "metadata": {
            "tags": []
          },
          "execution_count": 8
        },
        {
          "output_type": "display_data",
          "data": {
            "image/png": "[encoded data removed]",
            "text/plain": [
              "<Figure size 864x504 with 1 Axes>"
            ]
          },
          "metadata": {
            "tags": [],
            "needs_background": "light"
          }
        }
      ]
    },
    {
      "cell_type": "code",
      "metadata": {
        "id": "IJmAS14XpWAP",
        "colab_type": "code",
        "colab": {
          "base_uri": "https://localhost:8080/",
          "height": 226
        },
        "outputId": "a82235e5-da2d-413d-db9f-519539110755"
      },
      "source": [
        "df.head(5)"
      ],
      "execution_count": null,
      "outputs": [
        {
          "output_type": "execute_result",
          "data": {
            "text/html": [
              "<div>\n",
              "<style scoped>\n",
              "    .dataframe tbody tr th:only-of-type {\n",
              "        vertical-align: middle;\n",
              "    }\n",
              "\n",
              "    .dataframe tbody tr th {\n",
              "        vertical-align: top;\n",
              "    }\n",
              "\n",
              "    .dataframe thead th {\n",
              "        text-align: right;\n",
              "    }\n",
              "</style>\n",
              "<table border=\"1\" class=\"dataframe\">\n",
              "  <thead>\n",
              "    <tr style=\"text-align: right;\">\n",
              "      <th></th>\n",
              "      <th>gameId</th>\n",
              "      <th>ranking</th>\n",
              "      <th>gameDuration</th>\n",
              "      <th>gameDurationMins</th>\n",
              "      <th>blueWins</th>\n",
              "      <th>blueFirstBlood</th>\n",
              "      <th>blueFirstTower</th>\n",
              "      <th>blueFirstBaron</th>\n",
              "      <th>blueFirstDragon</th>\n",
              "      <th>blueFirstInhibitor</th>\n",
              "      <th>blueDragonKills</th>\n",
              "      <th>blueBaronKills</th>\n",
              "      <th>blueTowerKills</th>\n",
              "      <th>blueInhibitorKills</th>\n",
              "      <th>blueWardPlaced</th>\n",
              "      <th>blueWardkills</th>\n",
              "      <th>blueKills</th>\n",
              "      <th>blueDeath</th>\n",
              "      <th>blueAssist</th>\n",
              "      <th>blueChampionDamageDealt</th>\n",
              "      <th>blueTotalGold</th>\n",
              "      <th>blueTotalMinionKills</th>\n",
              "      <th>blueTotalLevel</th>\n",
              "      <th>blueAvgLevel</th>\n",
              "      <th>blueJungleMinionKills</th>\n",
              "      <th>blueKillingSpree</th>\n",
              "      <th>blueTotalHeal</th>\n",
              "      <th>blueObjectDamageDealt</th>\n",
              "      <th>redWins</th>\n",
              "      <th>redFirstBlood</th>\n",
              "      <th>redFirstTower</th>\n",
              "      <th>redFirstBaron</th>\n",
              "      <th>redFirstDragon</th>\n",
              "      <th>redFirstInhibitor</th>\n",
              "      <th>redDragonKills</th>\n",
              "      <th>redBaronKills</th>\n",
              "      <th>redTowerKills</th>\n",
              "      <th>redInhibitorKills</th>\n",
              "      <th>redWardPlaced</th>\n",
              "      <th>redWardkills</th>\n",
              "      <th>redKills</th>\n",
              "      <th>redDeath</th>\n",
              "      <th>redAssist</th>\n",
              "      <th>redChampionDamageDealt</th>\n",
              "      <th>redTotalGold</th>\n",
              "      <th>redTotalMinionKills</th>\n",
              "      <th>redTotalLevel</th>\n",
              "      <th>redAvgLevel</th>\n",
              "      <th>redJungleMinionKills</th>\n",
              "      <th>redKillingSpree</th>\n",
              "      <th>redTotalHeal</th>\n",
              "      <th>redObjectDamageDealt</th>\n",
              "    </tr>\n",
              "  </thead>\n",
              "  <tbody>\n",
              "    <tr>\n",
              "      <th>0</th>\n",
              "      <td>4247263043</td>\n",
              "      <td>challenger</td>\n",
              "      <td>1323</td>\n",
              "      <td>22.0</td>\n",
              "      <td>0</td>\n",
              "      <td>1</td>\n",
              "      <td>0</td>\n",
              "      <td>0</td>\n",
              "      <td>0</td>\n",
              "      <td>0</td>\n",
              "      <td>0</td>\n",
              "      <td>0</td>\n",
              "      <td>0</td>\n",
              "      <td>0</td>\n",
              "      <td>38</td>\n",
              "      <td>13</td>\n",
              "      <td>15</td>\n",
              "      <td>31</td>\n",
              "      <td>22</td>\n",
              "      <td>56039</td>\n",
              "      <td>37001</td>\n",
              "      <td>440</td>\n",
              "      <td>56</td>\n",
              "      <td>11.2</td>\n",
              "      <td>105</td>\n",
              "      <td>4</td>\n",
              "      <td>31035</td>\n",
              "      <td>5675</td>\n",
              "      <td>1</td>\n",
              "      <td>0</td>\n",
              "      <td>1</td>\n",
              "      <td>0</td>\n",
              "      <td>1</td>\n",
              "      <td>1</td>\n",
              "      <td>3</td>\n",
              "      <td>0</td>\n",
              "      <td>9</td>\n",
              "      <td>1</td>\n",
              "      <td>50</td>\n",
              "      <td>17</td>\n",
              "      <td>31</td>\n",
              "      <td>15</td>\n",
              "      <td>68</td>\n",
              "      <td>73016</td>\n",
              "      <td>49832</td>\n",
              "      <td>533</td>\n",
              "      <td>64</td>\n",
              "      <td>12.8</td>\n",
              "      <td>138</td>\n",
              "      <td>8</td>\n",
              "      <td>38711</td>\n",
              "      <td>60463</td>\n",
              "    </tr>\n",
              "    <tr>\n",
              "      <th>1</th>\n",
              "      <td>4247155821</td>\n",
              "      <td>challenger</td>\n",
              "      <td>1317</td>\n",
              "      <td>22.0</td>\n",
              "      <td>1</td>\n",
              "      <td>0</td>\n",
              "      <td>0</td>\n",
              "      <td>0</td>\n",
              "      <td>1</td>\n",
              "      <td>0</td>\n",
              "      <td>2</td>\n",
              "      <td>0</td>\n",
              "      <td>4</td>\n",
              "      <td>0</td>\n",
              "      <td>57</td>\n",
              "      <td>18</td>\n",
              "      <td>19</td>\n",
              "      <td>8</td>\n",
              "      <td>31</td>\n",
              "      <td>60243</td>\n",
              "      <td>41072</td>\n",
              "      <td>531</td>\n",
              "      <td>63</td>\n",
              "      <td>12.6</td>\n",
              "      <td>111</td>\n",
              "      <td>3</td>\n",
              "      <td>26397</td>\n",
              "      <td>45303</td>\n",
              "      <td>0</td>\n",
              "      <td>1</td>\n",
              "      <td>1</td>\n",
              "      <td>0</td>\n",
              "      <td>0</td>\n",
              "      <td>0</td>\n",
              "      <td>0</td>\n",
              "      <td>0</td>\n",
              "      <td>2</td>\n",
              "      <td>0</td>\n",
              "      <td>46</td>\n",
              "      <td>18</td>\n",
              "      <td>8</td>\n",
              "      <td>19</td>\n",
              "      <td>8</td>\n",
              "      <td>44218</td>\n",
              "      <td>37136</td>\n",
              "      <td>571</td>\n",
              "      <td>59</td>\n",
              "      <td>11.8</td>\n",
              "      <td>134</td>\n",
              "      <td>3</td>\n",
              "      <td>24829</td>\n",
              "      <td>14105</td>\n",
              "    </tr>\n",
              "    <tr>\n",
              "      <th>2</th>\n",
              "      <td>4243963257</td>\n",
              "      <td>challenger</td>\n",
              "      <td>932</td>\n",
              "      <td>16.0</td>\n",
              "      <td>0</td>\n",
              "      <td>0</td>\n",
              "      <td>0</td>\n",
              "      <td>0</td>\n",
              "      <td>0</td>\n",
              "      <td>0</td>\n",
              "      <td>0</td>\n",
              "      <td>0</td>\n",
              "      <td>0</td>\n",
              "      <td>0</td>\n",
              "      <td>28</td>\n",
              "      <td>7</td>\n",
              "      <td>5</td>\n",
              "      <td>20</td>\n",
              "      <td>8</td>\n",
              "      <td>24014</td>\n",
              "      <td>22929</td>\n",
              "      <td>306</td>\n",
              "      <td>42</td>\n",
              "      <td>8.4</td>\n",
              "      <td>64</td>\n",
              "      <td>0</td>\n",
              "      <td>6567</td>\n",
              "      <td>5651</td>\n",
              "      <td>1</td>\n",
              "      <td>1</td>\n",
              "      <td>1</td>\n",
              "      <td>0</td>\n",
              "      <td>1</td>\n",
              "      <td>1</td>\n",
              "      <td>2</td>\n",
              "      <td>0</td>\n",
              "      <td>5</td>\n",
              "      <td>1</td>\n",
              "      <td>40</td>\n",
              "      <td>9</td>\n",
              "      <td>20</td>\n",
              "      <td>5</td>\n",
              "      <td>20</td>\n",
              "      <td>30797</td>\n",
              "      <td>35364</td>\n",
              "      <td>400</td>\n",
              "      <td>50</td>\n",
              "      <td>10.0</td>\n",
              "      <td>89</td>\n",
              "      <td>5</td>\n",
              "      <td>12589</td>\n",
              "      <td>45201</td>\n",
              "    </tr>\n",
              "    <tr>\n",
              "      <th>3</th>\n",
              "      <td>4241678498</td>\n",
              "      <td>challenger</td>\n",
              "      <td>2098</td>\n",
              "      <td>35.0</td>\n",
              "      <td>0</td>\n",
              "      <td>0</td>\n",
              "      <td>0</td>\n",
              "      <td>1</td>\n",
              "      <td>1</td>\n",
              "      <td>0</td>\n",
              "      <td>1</td>\n",
              "      <td>1</td>\n",
              "      <td>2</td>\n",
              "      <td>0</td>\n",
              "      <td>129</td>\n",
              "      <td>39</td>\n",
              "      <td>26</td>\n",
              "      <td>36</td>\n",
              "      <td>45</td>\n",
              "      <td>101607</td>\n",
              "      <td>63447</td>\n",
              "      <td>774</td>\n",
              "      <td>80</td>\n",
              "      <td>16.0</td>\n",
              "      <td>226</td>\n",
              "      <td>3</td>\n",
              "      <td>24718</td>\n",
              "      <td>31019</td>\n",
              "      <td>1</td>\n",
              "      <td>1</td>\n",
              "      <td>1</td>\n",
              "      <td>0</td>\n",
              "      <td>0</td>\n",
              "      <td>0</td>\n",
              "      <td>3</td>\n",
              "      <td>1</td>\n",
              "      <td>6</td>\n",
              "      <td>0</td>\n",
              "      <td>96</td>\n",
              "      <td>56</td>\n",
              "      <td>36</td>\n",
              "      <td>26</td>\n",
              "      <td>72</td>\n",
              "      <td>125866</td>\n",
              "      <td>70528</td>\n",
              "      <td>832</td>\n",
              "      <td>84</td>\n",
              "      <td>16.8</td>\n",
              "      <td>205</td>\n",
              "      <td>9</td>\n",
              "      <td>65312</td>\n",
              "      <td>88202</td>\n",
              "    </tr>\n",
              "    <tr>\n",
              "      <th>4</th>\n",
              "      <td>4241538868</td>\n",
              "      <td>challenger</td>\n",
              "      <td>2344</td>\n",
              "      <td>39.0</td>\n",
              "      <td>1</td>\n",
              "      <td>1</td>\n",
              "      <td>1</td>\n",
              "      <td>1</td>\n",
              "      <td>1</td>\n",
              "      <td>1</td>\n",
              "      <td>2</td>\n",
              "      <td>2</td>\n",
              "      <td>11</td>\n",
              "      <td>3</td>\n",
              "      <td>114</td>\n",
              "      <td>35</td>\n",
              "      <td>27</td>\n",
              "      <td>40</td>\n",
              "      <td>47</td>\n",
              "      <td>134826</td>\n",
              "      <td>74955</td>\n",
              "      <td>831</td>\n",
              "      <td>83</td>\n",
              "      <td>16.6</td>\n",
              "      <td>252</td>\n",
              "      <td>5</td>\n",
              "      <td>37161</td>\n",
              "      <td>95287</td>\n",
              "      <td>0</td>\n",
              "      <td>0</td>\n",
              "      <td>0</td>\n",
              "      <td>0</td>\n",
              "      <td>0</td>\n",
              "      <td>0</td>\n",
              "      <td>3</td>\n",
              "      <td>1</td>\n",
              "      <td>6</td>\n",
              "      <td>1</td>\n",
              "      <td>100</td>\n",
              "      <td>43</td>\n",
              "      <td>40</td>\n",
              "      <td>27</td>\n",
              "      <td>83</td>\n",
              "      <td>131536</td>\n",
              "      <td>74596</td>\n",
              "      <td>794</td>\n",
              "      <td>85</td>\n",
              "      <td>17.0</td>\n",
              "      <td>227</td>\n",
              "      <td>7</td>\n",
              "      <td>86431</td>\n",
              "      <td>64141</td>\n",
              "    </tr>\n",
              "  </tbody>\n",
              "</table>\n",
              "</div>"
            ],
            "text/plain": [
              "       gameId     ranking  gameDuration  gameDurationMins  blueWins  \\\n",
              "0  4247263043  challenger          1323              22.0         0   \n",
              "1  4247155821  challenger          1317              22.0         1   \n",
              "2  4243963257  challenger           932              16.0         0   \n",
              "3  4241678498  challenger          2098              35.0         0   \n",
              "4  4241538868  challenger          2344              39.0         1   \n",
              "\n",
              "   blueFirstBlood  blueFirstTower  blueFirstBaron  blueFirstDragon  \\\n",
              "0               1               0               0                0   \n",
              "1               0               0               0                1   \n",
              "2               0               0               0                0   \n",
              "3               0               0               1                1   \n",
              "4               1               1               1                1   \n",
              "\n",
              "   blueFirstInhibitor  blueDragonKills  blueBaronKills  blueTowerKills  \\\n",
              "0                   0                0               0               0   \n",
              "1                   0                2               0               4   \n",
              "2                   0                0               0               0   \n",
              "3                   0                1               1               2   \n",
              "4                   1                2               2              11   \n",
              "\n",
              "   blueInhibitorKills  blueWardPlaced  blueWardkills  blueKills  blueDeath  \\\n",
              "0                   0              38             13         15         31   \n",
              "1                   0              57             18         19          8   \n",
              "2                   0              28              7          5         20   \n",
              "3                   0             129             39         26         36   \n",
              "4                   3             114             35         27         40   \n",
              "\n",
              "   blueAssist  blueChampionDamageDealt  blueTotalGold  blueTotalMinionKills  \\\n",
              "0          22                    56039          37001                   440   \n",
              "1          31                    60243          41072                   531   \n",
              "2           8                    24014          22929                   306   \n",
              "3          45                   101607          63447                   774   \n",
              "4          47                   134826          74955                   831   \n",
              "\n",
              "   blueTotalLevel  blueAvgLevel  blueJungleMinionKills  blueKillingSpree  \\\n",
              "0              56          11.2                    105                 4   \n",
              "1              63          12.6                    111                 3   \n",
              "2              42           8.4                     64                 0   \n",
              "3              80          16.0                    226                 3   \n",
              "4              83          16.6                    252                 5   \n",
              "\n",
              "   blueTotalHeal  blueObjectDamageDealt  redWins  redFirstBlood  \\\n",
              "0          31035                   5675        1              0   \n",
              "1          26397                  45303        0              1   \n",
              "2           6567                   5651        1              1   \n",
              "3          24718                  31019        1              1   \n",
              "4          37161                  95287        0              0   \n",
              "\n",
              "   redFirstTower  redFirstBaron  redFirstDragon  redFirstInhibitor  \\\n",
              "0              1              0               1                  1   \n",
              "1              1              0               0                  0   \n",
              "2              1              0               1                  1   \n",
              "3              1              0               0                  0   \n",
              "4              0              0               0                  0   \n",
              "\n",
              "   redDragonKills  redBaronKills  redTowerKills  redInhibitorKills  \\\n",
              "0               3              0              9                  1   \n",
              "1               0              0              2                  0   \n",
              "2               2              0              5                  1   \n",
              "3               3              1              6                  0   \n",
              "4               3              1              6                  1   \n",
              "\n",
              "   redWardPlaced  redWardkills  redKills  redDeath  redAssist  \\\n",
              "0             50            17        31        15         68   \n",
              "1             46            18         8        19          8   \n",
              "2             40             9        20         5         20   \n",
              "3             96            56        36        26         72   \n",
              "4            100            43        40        27         83   \n",
              "\n",
              "   redChampionDamageDealt  redTotalGold  redTotalMinionKills  redTotalLevel  \\\n",
              "0                   73016         49832                  533             64   \n",
              "1                   44218         37136                  571             59   \n",
              "2                   30797         35364                  400             50   \n",
              "3                  125866         70528                  832             84   \n",
              "4                  131536         74596                  794             85   \n",
              "\n",
              "   redAvgLevel  redJungleMinionKills  redKillingSpree  redTotalHeal  \\\n",
              "0         12.8                   138                8         38711   \n",
              "1         11.8                   134                3         24829   \n",
              "2         10.0                    89                5         12589   \n",
              "3         16.8                   205                9         65312   \n",
              "4         17.0                   227                7         86431   \n",
              "\n",
              "   redObjectDamageDealt  \n",
              "0                 60463  \n",
              "1                 14105  \n",
              "2                 45201  \n",
              "3                 88202  \n",
              "4                 64141  "
            ]
          },
          "metadata": {
            "tags": []
          },
          "execution_count": 9
        }
      ]
    },
    {
      "cell_type": "code",
      "metadata": {
        "id": "AiwKfTO9pjs-",
        "colab_type": "code",
        "colab": {
          "base_uri": "https://localhost:8080/",
          "height": 283
        },
        "outputId": "916c227e-b6b1-4a0b-882c-0ed751b27ff5"
      },
      "source": [
        "df['ranking'].hist()"
      ],
      "execution_count": null,
      "outputs": [
        {
          "output_type": "execute_result",
          "data": {
            "text/plain": [
              "<matplotlib.axes._subplots.AxesSubplot at 0x7f0d45056978>"
            ]
          },
          "metadata": {
            "tags": []
          },
          "execution_count": 10
        },
        {
          "output_type": "display_data",
          "data": {
            "image/png": "[encoded data removed]",
            "text/plain": [
              "<Figure size 432x288 with 1 Axes>"
            ]
          },
          "metadata": {
            "tags": [],
            "needs_background": "light"
          }
        }
      ]
    },
    {
      "cell_type": "code",
      "metadata": {
        "id": "xFBVAhKqptG6",
        "colab_type": "code",
        "colab": {
          "base_uri": "https://localhost:8080/",
          "height": 283
        },
        "outputId": "b3dd5913-a1ab-4805-e055-8aa05e20e2f9"
      },
      "source": [
        "df['blueWins'].hist()"
      ],
      "execution_count": null,
      "outputs": [
        {
          "output_type": "execute_result",
          "data": {
            "text/plain": [
              "<matplotlib.axes._subplots.AxesSubplot at 0x7f0d45036320>"
            ]
          },
          "metadata": {
            "tags": []
          },
          "execution_count": 11
        },
        {
          "output_type": "display_data",
          "data": {
            "image/png": "[encoded data removed]",
            "text/plain": [
              "<Figure size 432x288 with 1 Axes>"
            ]
          },
          "metadata": {
            "tags": [],
            "needs_background": "light"
          }
        }
      ]
    },
    {
      "cell_type": "code",
      "metadata": {
        "id": "BS5EnOKgZe87",
        "colab_type": "code",
        "colab": {}
      },
      "source": [
        "# plt.figure(figsize=(10, 5))\n",
        "# sns.distplot(df['gameDurationMins'], hist=True, kde=False)\n",
        "# plt.xlabel(\"Number of games\")\n",
        "# plt.ylabel(\"Game Duration (mins)\")"
      ],
      "execution_count": null,
      "outputs": []
    },
    {
      "cell_type": "code",
      "metadata": {
        "id": "MGQdpimvdYOD",
        "colab_type": "code",
        "colab": {
          "base_uri": "https://localhost:8080/",
          "height": 89
        },
        "outputId": "0bc6384b-1013-46eb-a7d5-b0e4836eb1aa"
      },
      "source": [
        "df['ranking'].value_counts()"
      ],
      "execution_count": null,
      "outputs": [
        {
          "output_type": "execute_result",
          "data": {
            "text/plain": [
              "master         107125\n",
              "grandmaster     65896\n",
              "challenger      26904\n",
              "Name: ranking, dtype: int64"
            ]
          },
          "metadata": {
            "tags": []
          },
          "execution_count": 13
        }
      ]
    },
    {
      "cell_type": "code",
      "metadata": {
        "id": "l3aDxhr_aoqK",
        "colab_type": "code",
        "colab": {
          "base_uri": "https://localhost:8080/",
          "height": 435
        },
        "outputId": "c209354c-fb06-4761-d86c-ab0db0969593"
      },
      "source": [
        "rankings = ['master', 'grandmaster', 'challenger']\n",
        "game_durations_by_ranking = [df[df['ranking'] == rank]['gameDurationMins'] for rank in rankings]\n",
        "\n",
        "fig, ax = plt.subplots(figsize=(12, 6))\n",
        "ax.set(ylabel='Number of games')\n",
        "for i, game in enumerate(game_durations_by_ranking):\n",
        "    sns.distplot(game, hist=True, kde=False, axlabel=\"Game Duration (mins)\", label=rankings[i])\n",
        "ax.set_title(\"Game durations grouped by ELO Ranking\")\n",
        "fig.legend()\n",
        "plt.show()"
      ],
      "execution_count": null,
      "outputs": [
        {
          "output_type": "display_data",
          "data": {
            "image/png": "[encoded data removed]",
            "text/plain": [
              "<Figure size 864x432 with 1 Axes>"
            ]
          },
          "metadata": {
            "tags": [],
            "needs_background": "light"
          }
        }
      ]
    },
    {
      "cell_type": "code",
      "metadata": {
        "id": "ERHhSFOIIEQI",
        "colab_type": "code",
        "colab": {
          "base_uri": "https://localhost:8080/",
          "height": 266
        },
        "outputId": "86514aa4-a640-4a7e-ef5b-b7e75a2bc6e3"
      },
      "source": [
        "df['blueWins'].plot.pie()"
      ],
      "execution_count": 15,
      "outputs": [
        {
          "output_type": "execute_result",
          "data": {
            "text/plain": [
              "<matplotlib.axes._subplots.AxesSubplot at 0x7f0d44f5e278>"
            ]
          },
          "metadata": {
            "tags": []
          },
          "execution_count": 15
        },
        {
          "output_type": "display_data",
          "data": {
            "image/png": "[encoded data removed]",
            "text/plain": [
              "<Figure size 432x288 with 1 Axes>"
            ]
          },
          "metadata": {
            "tags": []
          }
        }
      ]
    },
    {
      "cell_type": "code",
      "metadata": {
        "id": "yvNGpnLIIu_Z",
        "colab_type": "code",
        "colab": {
          "base_uri": "https://localhost:8080/",
          "height": 733
        },
        "outputId": "0b4ddad2-1a50-4034-dfe7-79fede7a58a9"
      },
      "source": [
        "df['']"
      ],
      "execution_count": 16,
      "outputs": [
        {
          "output_type": "error",
          "ename": "KeyError",
          "evalue": "ignored",
          "traceback": [
            "\u001b[0;31m---------------------------------------------------------------------------\u001b[0m",
            "\u001b[0;31mKeyError\u001b[0m                                  Traceback (most recent call last)",
            "\u001b[0;32m/usr/local/lib/python3.6/dist-packages/pandas/core/indexes/base.py\u001b[0m in \u001b[0;36mget_loc\u001b[0;34m(self, key, method, tolerance)\u001b[0m\n\u001b[1;32m   2645\u001b[0m             \u001b[0;32mtry\u001b[0m\u001b[0;34m:\u001b[0m\u001b[0;34m\u001b[0m\u001b[0;34m\u001b[0m\u001b[0m\n\u001b[0;32m-> 2646\u001b[0;31m                 \u001b[0;32mreturn\u001b[0m \u001b[0mself\u001b[0m\u001b[0;34m.\u001b[0m\u001b[0m_engine\u001b[0m\u001b[0;34m.\u001b[0m\u001b[0mget_loc\u001b[0m\u001b[0;34m(\u001b[0m\u001b[0mkey\u001b[0m\u001b[0;34m)\u001b[0m\u001b[0;34m\u001b[0m\u001b[0;34m\u001b[0m\u001b[0m\n\u001b[0m\u001b[1;32m   2647\u001b[0m             \u001b[0;32mexcept\u001b[0m \u001b[0mKeyError\u001b[0m\u001b[0;34m:\u001b[0m\u001b[0;34m\u001b[0m\u001b[0;34m\u001b[0m\u001b[0m\n",
            "\u001b[0;32mpandas/_libs/index.pyx\u001b[0m in \u001b[0;36mpandas._libs.index.IndexEngine.get_loc\u001b[0;34m()\u001b[0m\n",
            "\u001b[0;32mpandas/_libs/index.pyx\u001b[0m in \u001b[0;36mpandas._libs.index.IndexEngine.get_loc\u001b[0;34m()\u001b[0m\n",
            "\u001b[0;32mpandas/_libs/hashtable_class_helper.pxi\u001b[0m in \u001b[0;36mpandas._libs.hashtable.PyObjectHashTable.get_item\u001b[0;34m()\u001b[0m\n",
            "\u001b[0;32mpandas/_libs/hashtable_class_helper.pxi\u001b[0m in \u001b[0;36mpandas._libs.hashtable.PyObjectHashTable.get_item\u001b[0;34m()\u001b[0m\n",
            "\u001b[0;31mKeyError\u001b[0m: ''",
            "\nDuring handling of the above exception, another exception occurred:\n",
            "\u001b[0;31mKeyError\u001b[0m                                  Traceback (most recent call last)",
            "\u001b[0;32m<ipython-input-16-6a3ffe97ca8c>\u001b[0m in \u001b[0;36m<module>\u001b[0;34m()\u001b[0m\n\u001b[0;32m----> 1\u001b[0;31m \u001b[0mdf\u001b[0m\u001b[0;34m[\u001b[0m\u001b[0;34m''\u001b[0m\u001b[0;34m]\u001b[0m\u001b[0;34m\u001b[0m\u001b[0;34m\u001b[0m\u001b[0m\n\u001b[0m",
            "\u001b[0;32m/usr/local/lib/python3.6/dist-packages/pandas/core/frame.py\u001b[0m in \u001b[0;36m__getitem__\u001b[0;34m(self, key)\u001b[0m\n\u001b[1;32m   2798\u001b[0m             \u001b[0;32mif\u001b[0m \u001b[0mself\u001b[0m\u001b[0;34m.\u001b[0m\u001b[0mcolumns\u001b[0m\u001b[0;34m.\u001b[0m\u001b[0mnlevels\u001b[0m \u001b[0;34m>\u001b[0m \u001b[0;36m1\u001b[0m\u001b[0;34m:\u001b[0m\u001b[0;34m\u001b[0m\u001b[0;34m\u001b[0m\u001b[0m\n\u001b[1;32m   2799\u001b[0m                 \u001b[0;32mreturn\u001b[0m \u001b[0mself\u001b[0m\u001b[0;34m.\u001b[0m\u001b[0m_getitem_multilevel\u001b[0m\u001b[0;34m(\u001b[0m\u001b[0mkey\u001b[0m\u001b[0;34m)\u001b[0m\u001b[0;34m\u001b[0m\u001b[0;34m\u001b[0m\u001b[0m\n\u001b[0;32m-> 2800\u001b[0;31m             \u001b[0mindexer\u001b[0m \u001b[0;34m=\u001b[0m \u001b[0mself\u001b[0m\u001b[0;34m.\u001b[0m\u001b[0mcolumns\u001b[0m\u001b[0;34m.\u001b[0m\u001b[0mget_loc\u001b[0m\u001b[0;34m(\u001b[0m\u001b[0mkey\u001b[0m\u001b[0;34m)\u001b[0m\u001b[0;34m\u001b[0m\u001b[0;34m\u001b[0m\u001b[0m\n\u001b[0m\u001b[1;32m   2801\u001b[0m             \u001b[0;32mif\u001b[0m \u001b[0mis_integer\u001b[0m\u001b[0;34m(\u001b[0m\u001b[0mindexer\u001b[0m\u001b[0;34m)\u001b[0m\u001b[0;34m:\u001b[0m\u001b[0;34m\u001b[0m\u001b[0;34m\u001b[0m\u001b[0m\n\u001b[1;32m   2802\u001b[0m                 \u001b[0mindexer\u001b[0m \u001b[0;34m=\u001b[0m \u001b[0;34m[\u001b[0m\u001b[0mindexer\u001b[0m\u001b[0;34m]\u001b[0m\u001b[0;34m\u001b[0m\u001b[0;34m\u001b[0m\u001b[0m\n",
            "\u001b[0;32m/usr/local/lib/python3.6/dist-packages/pandas/core/indexes/base.py\u001b[0m in \u001b[0;36mget_loc\u001b[0;34m(self, key, method, tolerance)\u001b[0m\n\u001b[1;32m   2646\u001b[0m                 \u001b[0;32mreturn\u001b[0m \u001b[0mself\u001b[0m\u001b[0;34m.\u001b[0m\u001b[0m_engine\u001b[0m\u001b[0;34m.\u001b[0m\u001b[0mget_loc\u001b[0m\u001b[0;34m(\u001b[0m\u001b[0mkey\u001b[0m\u001b[0;34m)\u001b[0m\u001b[0;34m\u001b[0m\u001b[0;34m\u001b[0m\u001b[0m\n\u001b[1;32m   2647\u001b[0m             \u001b[0;32mexcept\u001b[0m \u001b[0mKeyError\u001b[0m\u001b[0;34m:\u001b[0m\u001b[0;34m\u001b[0m\u001b[0;34m\u001b[0m\u001b[0m\n\u001b[0;32m-> 2648\u001b[0;31m                 \u001b[0;32mreturn\u001b[0m \u001b[0mself\u001b[0m\u001b[0;34m.\u001b[0m\u001b[0m_engine\u001b[0m\u001b[0;34m.\u001b[0m\u001b[0mget_loc\u001b[0m\u001b[0;34m(\u001b[0m\u001b[0mself\u001b[0m\u001b[0;34m.\u001b[0m\u001b[0m_maybe_cast_indexer\u001b[0m\u001b[0;34m(\u001b[0m\u001b[0mkey\u001b[0m\u001b[0;34m)\u001b[0m\u001b[0;34m)\u001b[0m\u001b[0;34m\u001b[0m\u001b[0;34m\u001b[0m\u001b[0m\n\u001b[0m\u001b[1;32m   2649\u001b[0m         \u001b[0mindexer\u001b[0m \u001b[0;34m=\u001b[0m \u001b[0mself\u001b[0m\u001b[0;34m.\u001b[0m\u001b[0mget_indexer\u001b[0m\u001b[0;34m(\u001b[0m\u001b[0;34m[\u001b[0m\u001b[0mkey\u001b[0m\u001b[0;34m]\u001b[0m\u001b[0;34m,\u001b[0m \u001b[0mmethod\u001b[0m\u001b[0;34m=\u001b[0m\u001b[0mmethod\u001b[0m\u001b[0;34m,\u001b[0m \u001b[0mtolerance\u001b[0m\u001b[0;34m=\u001b[0m\u001b[0mtolerance\u001b[0m\u001b[0;34m)\u001b[0m\u001b[0;34m\u001b[0m\u001b[0;34m\u001b[0m\u001b[0m\n\u001b[1;32m   2650\u001b[0m         \u001b[0;32mif\u001b[0m \u001b[0mindexer\u001b[0m\u001b[0;34m.\u001b[0m\u001b[0mndim\u001b[0m \u001b[0;34m>\u001b[0m \u001b[0;36m1\u001b[0m \u001b[0;32mor\u001b[0m \u001b[0mindexer\u001b[0m\u001b[0;34m.\u001b[0m\u001b[0msize\u001b[0m \u001b[0;34m>\u001b[0m \u001b[0;36m1\u001b[0m\u001b[0;34m:\u001b[0m\u001b[0;34m\u001b[0m\u001b[0;34m\u001b[0m\u001b[0m\n",
            "\u001b[0;32mpandas/_libs/index.pyx\u001b[0m in \u001b[0;36mpandas._libs.index.IndexEngine.get_loc\u001b[0;34m()\u001b[0m\n",
            "\u001b[0;32mpandas/_libs/index.pyx\u001b[0m in \u001b[0;36mpandas._libs.index.IndexEngine.get_loc\u001b[0;34m()\u001b[0m\n",
            "\u001b[0;32mpandas/_libs/hashtable_class_helper.pxi\u001b[0m in \u001b[0;36mpandas._libs.hashtable.PyObjectHashTable.get_item\u001b[0;34m()\u001b[0m\n",
            "\u001b[0;32mpandas/_libs/hashtable_class_helper.pxi\u001b[0m in \u001b[0;36mpandas._libs.hashtable.PyObjectHashTable.get_item\u001b[0;34m()\u001b[0m\n",
            "\u001b[0;31mKeyError\u001b[0m: ''"
          ]
        }
      ]
    },
    {
      "cell_type": "code",
      "metadata": {
        "id": "vqKKj2nnpvD5",
        "colab_type": "code",
        "colab": {}
      },
      "source": [
        "columns = ['redWins', 'blueWins']\n",
        "\n",
        "win_mapping = {0: \"DEFEAT\", 1: \"WIN\"}\n",
        "\n",
        "for col in columns:\n",
        "    df[col]= df[col].map(win_mapping)"
      ],
      "execution_count": null,
      "outputs": []
    },
    {
      "cell_type": "code",
      "metadata": {
        "id": "6vu1OTuG8XHu",
        "colab_type": "code",
        "colab": {}
      },
      "source": [
        "sns.countplot(x=df['ranking'], hue=df['blueWins'], palette=\"Set1\")"
      ],
      "execution_count": null,
      "outputs": []
    },
    {
      "cell_type": "code",
      "metadata": {
        "id": "X0NuUt8Hpy5q",
        "colab_type": "code",
        "colab": {}
      },
      "source": [
        "plt.figure(figsize=(12, 7))\n",
        "sns.scatterplot(x=df['gameDurationMins'], y=df['blueAvgLevel'], hue=df['blueWins'], palette=\"RdYlGn\")"
      ],
      "execution_count": null,
      "outputs": []
    },
    {
      "cell_type": "code",
      "metadata": {
        "id": "bWV3iracp8X_",
        "colab_type": "code",
        "colab": {}
      },
      "source": [
        "\n",
        "df = df[df['blueAvgLevel'] <= 18]\n",
        "df = df[df['redAvgLevel'] <= 18]"
      ],
      "execution_count": null,
      "outputs": []
    },
    {
      "cell_type": "code",
      "metadata": {
        "id": "NAZ7mucQp9kc",
        "colab_type": "code",
        "colab": {}
      },
      "source": [
        "plt.figure(figsize=(12, 7))\n",
        "sns.scatterplot(x=df['gameDurationMins'], y=df['blueAvgLevel'], hue=df['blueWins'], palette=\"RdYlGn\")"
      ],
      "execution_count": null,
      "outputs": []
    },
    {
      "cell_type": "code",
      "metadata": {
        "id": "qYbFBioLmxTt",
        "colab_type": "code",
        "colab": {}
      },
      "source": [
        "df['redWins']"
      ],
      "execution_count": null,
      "outputs": []
    },
    {
      "cell_type": "code",
      "metadata": {
        "id": "O7D4YoW_p8_E",
        "colab_type": "code",
        "colab": {}
      },
      "source": [
        "plt.figure(figsize=(12, 7))\n",
        "sns.scatterplot(x=df['gameDurationMins'], y=df['redAvgLevel'], hue=df['redWins'], palette=\"Pastel2\")"
      ],
      "execution_count": null,
      "outputs": []
    },
    {
      "cell_type": "code",
      "metadata": {
        "id": "ZKzW4cQrp9Uf",
        "colab_type": "code",
        "colab": {}
      },
      "source": [
        "blue_f_baron = df.groupby('blueFirstBaron')['blueWins'].value_counts()\n",
        "blue_f_baron"
      ],
      "execution_count": null,
      "outputs": []
    },
    {
      "cell_type": "code",
      "metadata": {
        "id": "U5R6xdWm6xSz",
        "colab_type": "code",
        "colab": {}
      },
      "source": [
        "# Teams that claimed baron defeat and have actually won the match\n",
        "blue_f_baron[1].plot.pie(autopct='%1.1f%%')"
      ],
      "execution_count": null,
      "outputs": []
    },
    {
      "cell_type": "code",
      "metadata": {
        "id": "0Ua9boTDwmmp",
        "colab_type": "code",
        "colab": {}
      },
      "source": [
        "red_f_baron = df.groupby('redFirstBaron')['redWins'].value_counts()\n",
        "red_f_baron"
      ],
      "execution_count": null,
      "outputs": []
    },
    {
      "cell_type": "code",
      "metadata": {
        "id": "S-db66N-wgq3",
        "colab_type": "code",
        "colab": {}
      },
      "source": [
        "# Teams that claimed baron defeat and have actually won the match\n",
        "red_f_baron[1].plot.pie(autopct='%1.1f%%')"
      ],
      "execution_count": null,
      "outputs": []
    },
    {
      "cell_type": "code",
      "metadata": {
        "id": "_b8yAXr4D8Sk",
        "colab_type": "code",
        "colab": {}
      },
      "source": [
        "columns = ['redWins', 'blueWins']\n",
        "\n",
        "inv_win_mapping = {v: k for k, v in win_mapping.items()}\n",
        "\n",
        "for col in columns:\n",
        "    df[col] = df[col].map(inv_win_mapping)"
      ],
      "execution_count": null,
      "outputs": []
    },
    {
      "cell_type": "code",
      "metadata": {
        "id": "HWwnf1wXKWMo",
        "colab_type": "code",
        "colab": {}
      },
      "source": [
        "blue_first_columns = ['blueWins', 'blueFirstBlood', 'blueFirstTower', 'blueFirstDragon', 'blueFirstBaron', 'blueFirstInhibitor']\n",
        "\n",
        "blue_amount_columns = [\n",
        "    'blueWins', 'blueKills', 'blueDeath', 'blueAssist', 'blueTowerKills', 'blueInhibitorKills', 'blueDragonKills', 'blueBaronKills',  'blueWardPlaced', \n",
        "    'blueWardkills', 'blueChampionDamageDealt', 'blueObjectDamageDealt', 'blueTotalGold', 'blueTotalMinionKills',  'blueTotalLevel', 'blueJungleMinionKills', \n",
        "    'blueKillingSpree', 'blueTotalHeal', \n",
        "] "
      ],
      "execution_count": null,
      "outputs": []
    },
    {
      "cell_type": "code",
      "metadata": {
        "id": "SqIZi2v_11UZ",
        "colab_type": "code",
        "colab": {}
      },
      "source": [
        "plt.figure(figsize=(10, 8))\n",
        "plt.title(\"Correlation Matrix for winning a game by first acquiring goals (blue side)\")\n",
        "data = df[df['ranking'] == 'challenger'][blue_first_columns]\n",
        "sns.heatmap(data.corr(method='pearson'), annot=True, fmt=\".2f\", cmap=\"RdYlGn\")"
      ],
      "execution_count": null,
      "outputs": []
    },
    {
      "cell_type": "code",
      "metadata": {
        "id": "f2uZugLCEleM",
        "colab_type": "code",
        "colab": {}
      },
      "source": [
        "plt.figure(figsize=(15, 12))\n",
        "data = df[df['ranking'] == 'challenger'][blue_amount_columns]\n",
        "sns.heatmap(data.corr(method='pearson'), annot=True, fmt=\".2f\", cmap=\"RdYlGn\")"
      ],
      "execution_count": null,
      "outputs": []
    },
    {
      "cell_type": "code",
      "metadata": {
        "id": "rMDMv8x7qp5h",
        "colab_type": "code",
        "colab": {}
      },
      "source": [
        "red_first_columns = ['redWins', 'redFirstBlood', 'redFirstTower', 'redFirstDragon', 'redFirstBaron', 'redFirstInhibitor']\n",
        "\n",
        "red_amount_columns = [\n",
        "    'redWins', 'redKills', 'redDeath', 'redAssist', 'redTowerKills', 'redInhibitorKills', 'redDragonKills', 'redBaronKills',  'redWardPlaced', \n",
        "    'redWardkills', 'redChampionDamageDealt', 'redObjectDamageDealt', 'redTotalGold', 'redTotalMinionKills',  'redTotalLevel', 'redJungleMinionKills', \n",
        "    'redKillingSpree', 'redTotalHeal', \n",
        "]"
      ],
      "execution_count": null,
      "outputs": []
    },
    {
      "cell_type": "code",
      "metadata": {
        "id": "ifFoVh3Yqcd5",
        "colab_type": "code",
        "colab": {}
      },
      "source": [
        "plt.figure(figsize=(10, 8))\n",
        "plt.title(\"Correlation Matrix for winning a game by first acquiring goals (red side)\")\n",
        "data = df[red_first_columns]\n",
        "sns.heatmap(data.corr(method='pearson'), annot=True, fmt=\".2f\", cmap=\"RdYlGn\")"
      ],
      "execution_count": null,
      "outputs": []
    },
    {
      "cell_type": "code",
      "metadata": {
        "id": "B2Opcr8YrhhH",
        "colab_type": "code",
        "colab": {}
      },
      "source": [
        "plt.figure(figsize=(15, 12))\n",
        "data = df[red_amount_columns]\n",
        "sns.heatmap(data.corr(method='pearson'), annot=True, fmt=\".2f\", cmap=\"RdYlGn\")"
      ],
      "execution_count": null,
      "outputs": []
    },
    {
      "cell_type": "code",
      "metadata": {
        "id": "o6xTsGq8KBjH",
        "colab_type": "code",
        "colab": {}
      },
      "source": [
        "np.logical_and(df['gameDurationMins'] < 20, df['redFirstBaron'] == 1).value_counts()"
      ],
      "execution_count": null,
      "outputs": []
    },
    {
      "cell_type": "code",
      "metadata": {
        "id": "UmmYCefgNqc2",
        "colab_type": "code",
        "colab": {}
      },
      "source": [
        "np.logical_and(df['gameDurationMins'] < 20, df['blueBaronKills'] == 1).value_counts()"
      ],
      "execution_count": null,
      "outputs": []
    },
    {
      "cell_type": "code",
      "metadata": {
        "id": "0I9m9FtmviLR",
        "colab_type": "code",
        "colab": {}
      },
      "source": [
        ""
      ],
      "execution_count": null,
      "outputs": []
    },
    {
      "cell_type": "code",
      "metadata": {
        "id": "ySGFrfcUvzC3",
        "colab_type": "code",
        "colab": {}
      },
      "source": [
        ""
      ],
      "execution_count": null,
      "outputs": []
    },
    {
      "cell_type": "code",
      "metadata": {
        "id": "8VWWbWt0wBVn",
        "colab_type": "code",
        "colab": {}
      },
      "source": [
        ""
      ],
      "execution_count": null,
      "outputs": []
    },
    {
      "cell_type": "code",
      "metadata": {
        "id": "YgiNedRtvi2M",
        "colab_type": "code",
        "colab": {}
      },
      "source": [
        ""
      ],
      "execution_count": null,
      "outputs": []
    },
    {
      "cell_type": "code",
      "metadata": {
        "id": "QCQusgTfvjGQ",
        "colab_type": "code",
        "colab": {}
      },
      "source": [
        ""
      ],
      "execution_count": null,
      "outputs": []
    },
    {
      "cell_type": "code",
      "metadata": {
        "id": "HEv37x-gvjWP",
        "colab_type": "code",
        "colab": {}
      },
      "source": [
        ""
      ],
      "execution_count": null,
      "outputs": []
    }
  ]
}