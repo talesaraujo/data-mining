{
 "cells": [
  {
   "cell_type": "markdown",
   "metadata": {
    "colab_type": "text",
    "id": "GeLHXZXjJf68"
   },
   "source": [
    "# Assignment 4 - News classification"
   ]
  },
  {
   "cell_type": "markdown",
   "metadata": {
    "colab_type": "text",
    "id": "xS_hVSnvJfv_"
   },
   "source": [
    "**Team Group** \n",
    "- Ricardo Cavalcante: 377744\n",
    "- Tales Araujo: 374953"
   ]
  },
  {
   "cell_type": "markdown",
   "metadata": {
    "colab_type": "text",
    "id": "1ftIGgQpuWmL"
   },
   "source": [
    "## 1. Preprocessing"
   ]
  },
  {
   "cell_type": "markdown",
   "metadata": {
    "colab_type": "text",
    "id": "MHfDOBtLvPXo"
   },
   "source": [
    "### 1.1 Importing the data"
   ]
  },
  {
   "cell_type": "code",
   "execution_count": 475,
   "metadata": {
    "colab": {
     "base_uri": "https://localhost:8080/",
     "height": 34
    },
    "colab_type": "code",
    "id": "a8gJkZ-SnovS",
    "outputId": "cef4d4f6-2f8b-468c-f37b-7ff3c807290b"
   },
   "outputs": [
    {
     "name": "stdout",
     "output_type": "stream",
     "text": [
      "Drive already mounted at /content/drive; to attempt to forcibly remount, call drive.mount(\"/content/drive\", force_remount=True).\n"
     ]
    }
   ],
   "source": [
    "from google.colab import drive\n",
    "\n",
    "# Here I have uploaded a sample from the news dataset\n",
    "drive.mount(\"/content/drive\")"
   ]
  },
  {
   "cell_type": "code",
   "execution_count": 476,
   "metadata": {
    "colab": {},
    "colab_type": "code",
    "id": "XiClaTDjMDtS"
   },
   "outputs": [],
   "source": [
    "\"\"\"NOTEBOOK REPRODUCIBILITY\n",
    "\n",
    "If you have a local sample of this dataset, just place it within this directory,\n",
    "change the DIR_PATH variable in order to match this new location and then simply\n",
    "ignore the gdrive mounting step by commenting it. You can access a local sample\n",
    "by logging into your Google Drive account and then downloading it from this URL:\n",
    "\n",
    "https://drive.google.com/file/d/1URGK1ShN4CgjbIUPtw6HMs9a28qSfFwb\n",
    "\"\"\"\n",
    "DIR_PATH = \"drive/My Drive/datasets/news/noticias.csv\""
   ]
  },
  {
   "cell_type": "code",
   "execution_count": 477,
   "metadata": {
    "colab": {},
    "colab_type": "code",
    "id": "p6mWG5kOoWGB"
   },
   "outputs": [],
   "source": [
    "# Importing base libraries\n",
    "import numpy as np\n",
    "import pandas as pd"
   ]
  },
  {
   "cell_type": "code",
   "execution_count": 478,
   "metadata": {
    "colab": {
     "base_uri": "https://localhost:8080/",
     "height": 206
    },
    "colab_type": "code",
    "id": "McOygSAAogNj",
    "outputId": "558aaf9c-fdab-4555-8af8-c9f6af5756ac"
   },
   "outputs": [
    {
     "data": {
      "text/html": [
       "<div>\n",
       "<style scoped>\n",
       "    .dataframe tbody tr th:only-of-type {\n",
       "        vertical-align: middle;\n",
       "    }\n",
       "\n",
       "    .dataframe tbody tr th {\n",
       "        vertical-align: top;\n",
       "    }\n",
       "\n",
       "    .dataframe thead th {\n",
       "        text-align: right;\n",
       "    }\n",
       "</style>\n",
       "<table border=\"1\" class=\"dataframe\">\n",
       "  <thead>\n",
       "    <tr style=\"text-align: right;\">\n",
       "      <th></th>\n",
       "      <th>Unnamed: 0</th>\n",
       "      <th>title</th>\n",
       "      <th>text</th>\n",
       "      <th>label</th>\n",
       "    </tr>\n",
       "  </thead>\n",
       "  <tbody>\n",
       "    <tr>\n",
       "      <th>0</th>\n",
       "      <td>8476</td>\n",
       "      <td>You Can Smell Hillary’s Fear</td>\n",
       "      <td>Daniel Greenfield, a Shillman Journalism Fello...</td>\n",
       "      <td>FAKE</td>\n",
       "    </tr>\n",
       "    <tr>\n",
       "      <th>1</th>\n",
       "      <td>10294</td>\n",
       "      <td>Watch The Exact Moment Paul Ryan Committed Pol...</td>\n",
       "      <td>Google Pinterest Digg Linkedin Reddit Stumbleu...</td>\n",
       "      <td>FAKE</td>\n",
       "    </tr>\n",
       "    <tr>\n",
       "      <th>2</th>\n",
       "      <td>3608</td>\n",
       "      <td>Kerry to go to Paris in gesture of sympathy</td>\n",
       "      <td>U.S. Secretary of State John F. Kerry said Mon...</td>\n",
       "      <td>REAL</td>\n",
       "    </tr>\n",
       "    <tr>\n",
       "      <th>3</th>\n",
       "      <td>10142</td>\n",
       "      <td>Bernie supporters on Twitter erupt in anger ag...</td>\n",
       "      <td>— Kaydee King (@KaydeeKing) November 9, 2016 T...</td>\n",
       "      <td>FAKE</td>\n",
       "    </tr>\n",
       "    <tr>\n",
       "      <th>4</th>\n",
       "      <td>875</td>\n",
       "      <td>The Battle of New York: Why This Primary Matters</td>\n",
       "      <td>It's primary day in New York and front-runners...</td>\n",
       "      <td>REAL</td>\n",
       "    </tr>\n",
       "  </tbody>\n",
       "</table>\n",
       "</div>"
      ],
      "text/plain": [
       "   Unnamed: 0  ... label\n",
       "0        8476  ...  FAKE\n",
       "1       10294  ...  FAKE\n",
       "2        3608  ...  REAL\n",
       "3       10142  ...  FAKE\n",
       "4         875  ...  REAL\n",
       "\n",
       "[5 rows x 4 columns]"
      ]
     },
     "execution_count": 478,
     "metadata": {
      "tags": []
     },
     "output_type": "execute_result"
    }
   ],
   "source": [
    "# Reading dataset\n",
    "df = pd.read_csv(DIR_PATH)\n",
    "df.head()"
   ]
  },
  {
   "cell_type": "code",
   "execution_count": 479,
   "metadata": {
    "colab": {
     "base_uri": "https://localhost:8080/",
     "height": 34
    },
    "colab_type": "code",
    "id": "3qT7K1mFohVi",
    "outputId": "2ce27d6b-3256-43f3-8a74-c2c7cebe069d"
   },
   "outputs": [
    {
     "data": {
      "text/plain": [
       "(6335, (6335,))"
      ]
     },
     "execution_count": 479,
     "metadata": {
      "tags": []
     },
     "output_type": "execute_result"
    }
   ],
   "source": [
    "# The first column is used as an id. Let's define it as how it was supposed to be\n",
    "# Size of the dataset, size of unique ids\n",
    "df['Unnamed: 0'].shape[0], df['Unnamed: 0'].unique().shape"
   ]
  },
  {
   "cell_type": "code",
   "execution_count": 480,
   "metadata": {
    "colab": {
     "base_uri": "https://localhost:8080/",
     "height": 206
    },
    "colab_type": "code",
    "id": "Ur25bvQIohPU",
    "outputId": "997065ca-474d-49b9-f201-a57480b9f90b"
   },
   "outputs": [
    {
     "data": {
      "text/html": [
       "<div>\n",
       "<style scoped>\n",
       "    .dataframe tbody tr th:only-of-type {\n",
       "        vertical-align: middle;\n",
       "    }\n",
       "\n",
       "    .dataframe tbody tr th {\n",
       "        vertical-align: top;\n",
       "    }\n",
       "\n",
       "    .dataframe thead th {\n",
       "        text-align: right;\n",
       "    }\n",
       "</style>\n",
       "<table border=\"1\" class=\"dataframe\">\n",
       "  <thead>\n",
       "    <tr style=\"text-align: right;\">\n",
       "      <th></th>\n",
       "      <th>title</th>\n",
       "      <th>text</th>\n",
       "      <th>label</th>\n",
       "    </tr>\n",
       "  </thead>\n",
       "  <tbody>\n",
       "    <tr>\n",
       "      <th>0</th>\n",
       "      <td>Study: women had to drive 4 times farther afte...</td>\n",
       "      <td>Ever since Texas laws closed about half of the...</td>\n",
       "      <td>REAL</td>\n",
       "    </tr>\n",
       "    <tr>\n",
       "      <th>1</th>\n",
       "      <td>Trump, Clinton clash in dueling DC speeches</td>\n",
       "      <td>Donald Trump and Hillary Clinton, now at the s...</td>\n",
       "      <td>REAL</td>\n",
       "    </tr>\n",
       "    <tr>\n",
       "      <th>2</th>\n",
       "      <td>As Reproductive Rights Hang In The Balance, De...</td>\n",
       "      <td>WASHINGTON -- Forty-three years after the Supr...</td>\n",
       "      <td>REAL</td>\n",
       "    </tr>\n",
       "    <tr>\n",
       "      <th>3</th>\n",
       "      <td>Despite Constant Debate, Americans' Abortion O...</td>\n",
       "      <td>It's been a big week for abortion news.\\n\\nCar...</td>\n",
       "      <td>REAL</td>\n",
       "    </tr>\n",
       "    <tr>\n",
       "      <th>4</th>\n",
       "      <td>Obama Argues Against Goverment Shutdown Over P...</td>\n",
       "      <td>President Barack Obama said Saturday night tha...</td>\n",
       "      <td>REAL</td>\n",
       "    </tr>\n",
       "  </tbody>\n",
       "</table>\n",
       "</div>"
      ],
      "text/plain": [
       "                                               title  ... label\n",
       "0  Study: women had to drive 4 times farther afte...  ...  REAL\n",
       "1        Trump, Clinton clash in dueling DC speeches  ...  REAL\n",
       "2  As Reproductive Rights Hang In The Balance, De...  ...  REAL\n",
       "3  Despite Constant Debate, Americans' Abortion O...  ...  REAL\n",
       "4  Obama Argues Against Goverment Shutdown Over P...  ...  REAL\n",
       "\n",
       "[5 rows x 3 columns]"
      ]
     },
     "execution_count": 480,
     "metadata": {
      "tags": []
     },
     "output_type": "execute_result"
    }
   ],
   "source": [
    "# Rearranging the data\n",
    "df = df.rename(columns={\"Unnamed: 0\": \"id\"})\n",
    "df = df.sort_values(by=\"id\", ascending=True)\n",
    "df = df.set_index('id')\n",
    "df = df.reset_index(drop=True)\n",
    "df.head()"
   ]
  },
  {
   "cell_type": "code",
   "execution_count": 481,
   "metadata": {
    "colab": {
     "base_uri": "https://localhost:8080/",
     "height": 69
    },
    "colab_type": "code",
    "id": "dSy56IjYr9c5",
    "outputId": "de698236-e26c-4d5e-da1f-55311e275023"
   },
   "outputs": [
    {
     "data": {
      "text/plain": [
       "REAL    3171\n",
       "FAKE    3164\n",
       "Name: label, dtype: int64"
      ]
     },
     "execution_count": 481,
     "metadata": {
      "tags": []
     },
     "output_type": "execute_result"
    }
   ],
   "source": [
    "# Class distribution\n",
    "df['label'].value_counts()"
   ]
  },
  {
   "cell_type": "code",
   "execution_count": 482,
   "metadata": {
    "colab": {},
    "colab_type": "code",
    "id": "LMnIv4pOszcb"
   },
   "outputs": [],
   "source": [
    "# Importing necessary functions to perform analysis\n",
    "from sklearn.feature_extraction.text import CountVectorizer, TfidfVectorizer\n",
    "from sklearn.naive_bayes import MultinomialNB\n",
    "from sklearn.model_selection import train_test_split\n",
    "from sklearn.metrics import accuracy_score, confusion_matrix"
   ]
  },
  {
   "cell_type": "markdown",
   "metadata": {
    "colab_type": "text",
    "id": "5ZYYboOTsKiv"
   },
   "source": [
    "### 1.2 Splitting data into training and testing sets"
   ]
  },
  {
   "cell_type": "code",
   "execution_count": 483,
   "metadata": {
    "colab": {},
    "colab_type": "code",
    "id": "_JV8FYdfD2xZ"
   },
   "outputs": [],
   "source": [
    "# Converting categorical classes into integer ones\n",
    "label_mapping = {\"REAL\": 1, \"FAKE\": 0}\n",
    "df['label'] = df['label'].map(label_mapping)\n",
    "\n",
    "# USING ONLY TEXT FEATURE\n",
    "#X, y = df['text'], df['label']\n",
    "# USING ALL FEATURES\n",
    "# Creating a new column with title and text grouped together\n",
    "df['content'] = df['title'] + \"\\n\\n\" + df['text']\n",
    "X, y = df['content'], df['label']\n",
    "\n",
    "# Splitting data\n",
    "X_train, X_test, y_train, y_test = train_test_split(X, y, test_size=0.33)"
   ]
  },
  {
   "cell_type": "markdown",
   "metadata": {
    "colab_type": "text",
    "id": "iDGXmosBsXS7"
   },
   "source": [
    "## 2. Creating `CountVectorized` matrix"
   ]
  },
  {
   "cell_type": "code",
   "execution_count": 484,
   "metadata": {
    "colab": {},
    "colab_type": "code",
    "id": "8FQPuFgwFiED"
   },
   "outputs": [],
   "source": [
    "cv = CountVectorizer()\n",
    "\n",
    "X_train_cv = cv.fit_transform(X_train)\n",
    "X_test_cv = cv.transform(X_test)"
   ]
  },
  {
   "cell_type": "markdown",
   "metadata": {
    "colab_type": "text",
    "id": "eKhGXgp0u5qU"
   },
   "source": [
    "## 3. Creating `TfidVectorizer` matrix"
   ]
  },
  {
   "cell_type": "code",
   "execution_count": 485,
   "metadata": {
    "colab": {},
    "colab_type": "code",
    "id": "fEjgYgHgu4An"
   },
   "outputs": [],
   "source": [
    "tfidv = TfidfVectorizer(min_df=1, stop_words=\"english\") # Test passing in english stopwords afterwards\n",
    "\n",
    "X_train_tfidv = tfidv.fit_transform(X_train)\n",
    "X_test_tfidv = tfidv.transform(X_test)"
   ]
  },
  {
   "cell_type": "markdown",
   "metadata": {
    "colab_type": "text",
    "id": "5PW6Rwb8tGU5"
   },
   "source": [
    "## 4. Creating and Training Multinomial Naive Bayes models"
   ]
  },
  {
   "cell_type": "code",
   "execution_count": 486,
   "metadata": {
    "colab": {},
    "colab_type": "code",
    "id": "pYwsct-_mxTi"
   },
   "outputs": [],
   "source": [
    "# Instantiate the class\n",
    "mnb_cv, mnb_tfidv = MultinomialNB(), MultinomialNB()"
   ]
  },
  {
   "cell_type": "code",
   "execution_count": 487,
   "metadata": {
    "colab": {
     "base_uri": "https://localhost:8080/",
     "height": 34
    },
    "colab_type": "code",
    "id": "ydqiUt9FteMT",
    "outputId": "0299e585-d7ae-47e4-ee38-3c6dce7396e5"
   },
   "outputs": [
    {
     "data": {
      "text/plain": [
       "MultinomialNB(alpha=1.0, class_prior=None, fit_prior=True)"
      ]
     },
     "execution_count": 487,
     "metadata": {
      "tags": []
     },
     "output_type": "execute_result"
    }
   ],
   "source": [
    "# Fitting the cv model\n",
    "mnb_cv.fit(X_train_cv, y_train)"
   ]
  },
  {
   "cell_type": "code",
   "execution_count": 488,
   "metadata": {
    "colab": {
     "base_uri": "https://localhost:8080/",
     "height": 34
    },
    "colab_type": "code",
    "id": "dvD3aw0Vtj8r",
    "outputId": "dc65e15c-c375-4729-e08d-7aed4d435b33"
   },
   "outputs": [
    {
     "data": {
      "text/plain": [
       "MultinomialNB(alpha=1.0, class_prior=None, fit_prior=True)"
      ]
     },
     "execution_count": 488,
     "metadata": {
      "tags": []
     },
     "output_type": "execute_result"
    }
   ],
   "source": [
    "# Fitting the tfidv model\n",
    "mnb_tfidv.fit(X_train_tfidv, y_train)"
   ]
  },
  {
   "cell_type": "markdown",
   "metadata": {
    "colab_type": "text",
    "id": "rSDEhJeMuC8F"
   },
   "source": [
    "## 5. Evaluating the results"
   ]
  },
  {
   "cell_type": "markdown",
   "metadata": {
    "colab_type": "text",
    "id": "asBzHXqC-OgA"
   },
   "source": [
    "5.1 Evaluating the First MNB model (`CountVectorizer` based)"
   ]
  },
  {
   "cell_type": "code",
   "execution_count": 489,
   "metadata": {
    "colab": {},
    "colab_type": "code",
    "id": "kwO5nvu8uESs"
   },
   "outputs": [],
   "source": [
    "# Generate predicted values for cv test set\n",
    "pred_mnb_cv = mnb_cv.predict(X_test_cv)"
   ]
  },
  {
   "cell_type": "code",
   "execution_count": 490,
   "metadata": {
    "colab": {},
    "colab_type": "code",
    "id": "xb_KQ7BYuD7N"
   },
   "outputs": [],
   "source": [
    "# Actual labels for test set\n",
    "actual = np.array(y_test)"
   ]
  },
  {
   "cell_type": "code",
   "execution_count": 491,
   "metadata": {
    "colab": {
     "base_uri": "https://localhost:8080/",
     "height": 34
    },
    "colab_type": "code",
    "id": "DK2pBItsvi-w",
    "outputId": "a11c5326-fe55-4b88-c683-91b3fb427f7a"
   },
   "outputs": [
    {
     "data": {
      "text/plain": [
       "0.8876135820181731"
      ]
     },
     "execution_count": 491,
     "metadata": {
      "tags": []
     },
     "output_type": "execute_result"
    }
   ],
   "source": [
    "# Computing accuracy score over the CV MNB model\n",
    "accuracy_score(pred_mnb_cv, actual)"
   ]
  },
  {
   "cell_type": "code",
   "execution_count": 492,
   "metadata": {
    "colab": {
     "base_uri": "https://localhost:8080/",
     "height": 52
    },
    "colab_type": "code",
    "id": "tanigL4G9HSg",
    "outputId": "d93dc8be-21aa-416f-a345-f35f6b21f4f4"
   },
   "outputs": [
    {
     "name": "stdout",
     "output_type": "stream",
     "text": [
      "[[0.42515543 0.07938785]\n",
      " [0.03299857 0.46245815]]\n"
     ]
    }
   ],
   "source": [
    "# Computing the confusion matrix over the CV MNB model\n",
    "cf_matrix_1 = confusion_matrix(actual, pred_mnb_cv, normalize='all')\n",
    "print(cf_matrix_1)"
   ]
  },
  {
   "cell_type": "markdown",
   "metadata": {
    "colab_type": "text",
    "id": "SdxdmUI2-ZbL"
   },
   "source": [
    "5.2 Evaluating the Second MNB model (`TfidVectorizer` based)"
   ]
  },
  {
   "cell_type": "code",
   "execution_count": 493,
   "metadata": {
    "colab": {},
    "colab_type": "code",
    "id": "7uA7J5mg9_AV"
   },
   "outputs": [],
   "source": [
    "# Generate predicted values for TfidV test set\n",
    "pred_mnb_tfidv = mnb_tfidv.predict(X_test_tfidv)"
   ]
  },
  {
   "cell_type": "code",
   "execution_count": 494,
   "metadata": {
    "colab": {},
    "colab_type": "code",
    "id": "LEMOYWHX-80e"
   },
   "outputs": [],
   "source": [
    "# Actual labels for test set\n",
    "actual = np.array(y_test)"
   ]
  },
  {
   "cell_type": "code",
   "execution_count": 495,
   "metadata": {
    "colab": {
     "base_uri": "https://localhost:8080/",
     "height": 34
    },
    "colab_type": "code",
    "id": "VQUXx3qC-9k4",
    "outputId": "02d40c9e-0038-479b-fa3c-00b66968b4f6"
   },
   "outputs": [
    {
     "data": {
      "text/plain": [
       "0.8244858919177427"
      ]
     },
     "execution_count": 495,
     "metadata": {
      "tags": []
     },
     "output_type": "execute_result"
    }
   ],
   "source": [
    "# Computing accuracy score over the TfidV MNB model\n",
    "accuracy_score(pred_mnb_tfidv, actual)"
   ]
  },
  {
   "cell_type": "code",
   "execution_count": 496,
   "metadata": {
    "colab": {
     "base_uri": "https://localhost:8080/",
     "height": 52
    },
    "colab_type": "code",
    "id": "BMCGPAAE_GUe",
    "outputId": "c48ea50d-8784-4f73-c581-4e09cec5f2a9"
   },
   "outputs": [
    {
     "name": "stdout",
     "output_type": "stream",
     "text": [
      "[[0.33668101 0.16786227]\n",
      " [0.00765184 0.48780488]]\n"
     ]
    }
   ],
   "source": [
    "# Computing the confusion matrix over the TfidV MNB model\n",
    "cf_matrix_2 = confusion_matrix(actual, pred_mnb_tfidv, normalize='all')\n",
    "print(cf_matrix_2)"
   ]
  }
 ],
 "metadata": {
  "colab": {
   "collapsed_sections": [],
   "name": "assignment_4.ipynb",
   "provenance": []
  },
  "kernelspec": {
   "display_name": "Python 3",
   "language": "python",
   "name": "python3"
  },
  "language_info": {
   "codemirror_mode": {
    "name": "ipython",
    "version": 3
   },
   "file_extension": ".py",
   "mimetype": "text/x-python",
   "name": "python",
   "nbconvert_exporter": "python",
   "pygments_lexer": "ipython3",
   "version": "3.8.3"
  }
 },
 "nbformat": 4,
 "nbformat_minor": 1
}
